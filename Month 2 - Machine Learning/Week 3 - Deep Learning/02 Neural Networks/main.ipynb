{
 "cells": [
  {
   "cell_type": "markdown",
   "metadata": {},
   "source": [
    "# How to Make a Neural Network\n",
    "This is the code for [How to Make a Neural Network - Intro to Deep Learning #2](https://youtu.be/p69khggr1Jo) by Siraj Raval on Youtube. This is a [simple](https://www.computing.dcu.ie/~humphrys/Notes/Neural/single.neural.html) single layer feedforward neural network (perceptron). We use binary digits as our inputs and expect binary digits as our outputs. We'll use [backpropagation](http://neuralnetworksanddeeplearning.com/chap2.html) via gradient descent to train our network and make our prediction as accurate as possible."
   ]
  },
  {
   "cell_type": "code",
   "execution_count": 1,
   "metadata": {},
   "outputs": [],
   "source": [
    "import numpy as np"
   ]
  },
  {
   "cell_type": "markdown",
   "metadata": {},
   "source": [
    "### Neural Network Class"
   ]
  },
  {
   "cell_type": "code",
   "execution_count": 2,
   "metadata": {},
   "outputs": [],
   "source": [
    "class NeuralNetwork():\n",
    "    def __init__(self):\n",
    "        np.random.seed(1)\n",
    "        self.synaptic_weights = 2 * np.random.random((3, 1)) - 1\n",
    "        \n",
    "    def __sigmoid(self, x):\n",
    "        return 1 / (1 + np.exp(-x))\n",
    "    \n",
    "    def __sigmoid_derivative(self, x):\n",
    "        return x * (1 - x)\n",
    "    \n",
    "    def predict(self, inputs):\n",
    "        return self.__sigmoid(np.dot(inputs, self.synaptic_weights))\n",
    "    \n",
    "    def train(self, training_set_inputs, training_set_outputs, number_of_training_iterations):\n",
    "        for step in range(number_of_training_iterations):\n",
    "            output = self.predict(training_set_inputs)\n",
    "            error = training_set_outputs - output\n",
    "            delta = np.dot(training_set_inputs.T, error * self.__sigmoid_derivative(output))\n",
    "            self.synaptic_weights += delta"
   ]
  },
  {
   "cell_type": "markdown",
   "metadata": {},
   "source": [
    "### Training neural network"
   ]
  },
  {
   "cell_type": "code",
   "execution_count": 3,
   "metadata": {},
   "outputs": [
    {
     "name": "stdout",
     "output_type": "stream",
     "text": [
      "Random starting synaptic weights: \n",
      "[[-0.16595599]\n",
      " [ 0.44064899]\n",
      " [-0.99977125]]\n",
      "New synaptic weights after training: \n",
      "[[ 9.67299303]\n",
      " [-0.2078435 ]\n",
      " [-4.62963669]]\n",
      "Considering new situation [1, 0, 0] -> [0.99993704]\n"
     ]
    }
   ],
   "source": [
    "neural_network = NeuralNetwork()\n",
    "\n",
    "print(\"Random starting synaptic weights: \")\n",
    "print(neural_network.synaptic_weights)\n",
    "\n",
    "training_set_inputs = np.array([[0, 0, 1], [1, 1, 1], [1, 0, 1], [0, 1, 1]])\n",
    "training_set_outputs = np.array([[0, 1, 1, 0]]).T\n",
    "\n",
    "neural_network.train(training_set_inputs, training_set_outputs, 10000)\n",
    "\n",
    "print(\"New synaptic weights after training: \")\n",
    "print(neural_network.synaptic_weights)\n",
    "\n",
    "print(\"Considering new situation [1, 0, 0] -> {}\".format(neural_network.predict(np.array([1, 0, 0]))))"
   ]
  }
 ],
 "metadata": {
  "kernelspec": {
   "display_name": "Python 3",
   "language": "python",
   "name": "python3"
  },
  "language_info": {
   "codemirror_mode": {
    "name": "ipython",
    "version": 3
   },
   "file_extension": ".py",
   "mimetype": "text/x-python",
   "name": "python",
   "nbconvert_exporter": "python",
   "pygments_lexer": "ipython3",
   "version": "3.7.3"
  }
 },
 "nbformat": 4,
 "nbformat_minor": 2
}
