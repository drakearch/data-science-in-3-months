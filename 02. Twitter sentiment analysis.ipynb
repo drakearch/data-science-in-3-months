{
 "cells": [
  {
   "cell_type": "markdown",
   "metadata": {
    "deletable": true,
    "editable": true
   },
   "source": [
    "# Twitter Sentiment Analysis\n",
    "Import packages."
   ]
  },
  {
   "cell_type": "code",
   "execution_count": 1,
   "metadata": {
    "collapsed": false,
    "deletable": true,
    "editable": true
   },
   "outputs": [],
   "source": [
    "from textblob import TextBlob\n",
    "import tweepy\n",
    "import json"
   ]
  },
  {
   "cell_type": "markdown",
   "metadata": {
    "deletable": true,
    "editable": true
   },
   "source": [
    "Load Twitter API credentials from config.json file.\n",
    "Authentication on twitter API."
   ]
  },
  {
   "cell_type": "code",
   "execution_count": 2,
   "metadata": {
    "collapsed": false,
    "deletable": true,
    "editable": true
   },
   "outputs": [],
   "source": [
    "with open('config/config.json') as file:\n",
    "    data = json.load(file)\n",
    "tw = data[\"twitter\"]\n",
    "\n",
    "auth = tweepy.OAuthHandler(tw[\"consumer_key\"], tw[\"consumer_secret\"])\n",
    "auth.set_access_token(tw[\"access_token\"], tw[\"access_token_secret\"])\n",
    "\n",
    "api = tweepy.API(auth)"
   ]
  },
  {
   "cell_type": "markdown",
   "metadata": {
    "deletable": true,
    "editable": true
   },
   "source": [
    "Searching for public tweets related to Jeopardy!."
   ]
  },
  {
   "cell_type": "code",
   "execution_count": 3,
   "metadata": {
    "collapsed": false,
    "deletable": true,
    "editable": true
   },
   "outputs": [],
   "source": [
    "public_tweets = api.search('jeopardy')"
   ]
  },
  {
   "cell_type": "markdown",
   "metadata": {
    "deletable": true,
    "editable": true
   },
   "source": [
    "Sentiment analysis of tweets related to Jeopardy!."
   ]
  },
  {
   "cell_type": "code",
   "execution_count": 4,
   "metadata": {
    "collapsed": false,
    "deletable": true,
    "editable": true
   },
   "outputs": [
    {
     "name": "stdout",
     "output_type": "stream",
     "text": [
      "RT @MysticDistance: Fitting that it would be on Jeopardy, as the Vita was in jeopardy from the moment it hit store shelves. https://t.co/0S…\n",
      "Sentiment(polarity=0.5, subjectivity=0.5) \n",
      "\n",
      "RT @JenWritesBooks2: Yes, those #CovingtonBoys lives are now in jeopardy b/c it's now proven with full video that the media LIED about what…\n",
      "Sentiment(polarity=0.35, subjectivity=0.55) \n",
      "\n",
      "RT @eugenegu: @realDonaldTrump But Trump doesn’t care about 800,000 federal workers who aren’t getting paid. To him, they are just hostages…\n",
      "Sentiment(polarity=0.0, subjectivity=0.0) \n",
      "\n",
      "@realDonaldTrump You are holding our gov hostage. Our national security is in jeopardy. If anyone dies as a direct… https://t.co/mLZkxf3I3F\n",
      "Sentiment(polarity=0.0, subjectivity=0.0) \n",
      "\n",
      "RT @eugenegu: @realDonaldTrump But Trump doesn’t care about 800,000 federal workers who aren’t getting paid. To him, they are just hostages…\n",
      "Sentiment(polarity=0.0, subjectivity=0.0) \n",
      "\n",
      "RT @eugenegu: @realDonaldTrump But Trump doesn’t care about 800,000 federal workers who aren’t getting paid. To him, they are just hostages…\n",
      "Sentiment(polarity=0.0, subjectivity=0.0) \n",
      "\n",
      "RT @Christinelvb1: I am incredibly frustrated with how MSM has put the lives of CHILDREN in jeopardy with their fake news of a \"confrontati…\n",
      "Sentiment(polarity=-0.6, subjectivity=0.6) \n",
      "\n",
      "RT @eugenegu: @realDonaldTrump But Trump doesn’t care about 800,000 federal workers who aren’t getting paid. To him, they are just hostages…\n",
      "Sentiment(polarity=0.0, subjectivity=0.0) \n",
      "\n",
      "The travesty of double jeopardy https://t.co/RbNcYa4sQW via @inquirerdotnet\n",
      "Sentiment(polarity=0.0, subjectivity=0.0) \n",
      "\n",
      "RT @eugenegu: @realDonaldTrump But Trump doesn’t care about 800,000 federal workers who aren’t getting paid. To him, they are just hostages…\n",
      "Sentiment(polarity=0.0, subjectivity=0.0) \n",
      "\n",
      "RT @sarawrencomedy: ME: *sees new season of Jeopardy is on Netflix* Siri, clear my schedule!\n",
      "SIRI: you have no events.\n",
      "ME: Perfect.\n",
      "Sentiment(polarity=0.4204545454545454, subjectivity=0.6126262626262626) \n",
      "\n",
      "@Rambobiggs @THETXEMBASSY They are all white. An go to a Christian School. Double jeopardy\n",
      "Sentiment(polarity=0.0, subjectivity=0.0) \n",
      "\n",
      "RT @eugenegu: @realDonaldTrump But Trump doesn’t care about 800,000 federal workers who aren’t getting paid. To him, they are just hostages…\n",
      "Sentiment(polarity=0.0, subjectivity=0.0) \n",
      "\n",
      "RT @eugenegu: @realDonaldTrump But Trump doesn’t care about 800,000 federal workers who aren’t getting paid. To him, they are just hostages…\n",
      "Sentiment(polarity=0.0, subjectivity=0.0) \n",
      "\n",
      "RT @eugenegu: @realDonaldTrump But Trump doesn’t care about 800,000 federal workers who aren’t getting paid. To him, they are just hostages…\n",
      "Sentiment(polarity=0.0, subjectivity=0.0) \n",
      "\n"
     ]
    }
   ],
   "source": [
    "for tweet in public_tweets:\n",
    "    print(tweet.text)\n",
    "    analysis = TextBlob(tweet.text)\n",
    "    print(analysis.sentiment, '\\n')"
   ]
  }
 ],
 "metadata": {
  "kernelspec": {
   "display_name": "Python 3",
   "language": "python",
   "name": "python3"
  },
  "language_info": {
   "codemirror_mode": {
    "name": "ipython",
    "version": 3
   },
   "file_extension": ".py",
   "mimetype": "text/x-python",
   "name": "python",
   "nbconvert_exporter": "python",
   "pygments_lexer": "ipython3",
   "version": "3.5.2"
  }
 },
 "nbformat": 4,
 "nbformat_minor": 2
}
