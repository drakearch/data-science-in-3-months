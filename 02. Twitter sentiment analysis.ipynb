{
 "cells": [
  {
   "cell_type": "markdown",
   "metadata": {},
   "source": [
    "# Twitter Sentiment Analysis\n",
    "Import packages."
   ]
  },
  {
   "cell_type": "code",
   "execution_count": 1,
   "metadata": {
    "collapsed": false
   },
   "outputs": [],
   "source": [
    "from textblob import TextBlob\n",
    "import tweepy"
   ]
  },
  {
   "cell_type": "markdown",
   "metadata": {},
   "source": [
    "Twitter API credentials.\n",
    "Authentication on twitter API."
   ]
  },
  {
   "cell_type": "code",
   "execution_count": 2,
   "metadata": {
    "collapsed": true
   },
   "outputs": [],
   "source": [
    "consumer_key = 'xxxxxxxxxxxxxxxxxxxxxxxxx'\n",
    "consumer_secret = 'xxxxxxxxxxxxxxxxxxxxxxxxxxxxxxxxxxxxxxxxxxxxxxxxxx'\n",
    "\n",
    "access_token = 'xxxxxxxxxxxxxxxxxxxxxxxxxxxxxxxxxxxxxxxxxxxxxxxxxx'\n",
    "access_token_secret = 'xxxxxxxxxxxxxxxxxxxxxxxxxxxxxxxxxxxxxxxxxxxxx'\n",
    "\n",
    "auth = tweepy.OAuthHandler(consumer_key, consumer_secret)\n",
    "auth.set_access_token(access_token, access_token_secret)\n",
    "\n",
    "api = tweepy.API(auth)"
   ]
  },
  {
   "cell_type": "markdown",
   "metadata": {},
   "source": [
    "Searching for public tweets related to Jeopardy!."
   ]
  },
  {
   "cell_type": "code",
   "execution_count": 3,
   "metadata": {
    "collapsed": false
   },
   "outputs": [],
   "source": [
    "public_tweets = api.search('jeopardy')"
   ]
  },
  {
   "cell_type": "markdown",
   "metadata": {},
   "source": [
    "Sentiment analysis of tweets related to Jeopardy!."
   ]
  },
  {
   "cell_type": "code",
   "execution_count": 4,
   "metadata": {
    "collapsed": false
   },
   "outputs": [
    {
     "name": "stdout",
     "output_type": "stream",
     "text": [
      "We have all seen this commercial for apple. If it was a clue on Jeopardy what would be your response?  #JEOPARDY https://t.co/UP8hTxbc04\n",
      "Sentiment(polarity=0.0, subjectivity=0.0) \n",
      "\n",
      "\"And her demons are the size of mountains, Mackie. You don't have to put yourself in jeopardy.\" https://t.co/th6YZT01ie\n",
      "Sentiment(polarity=0.0, subjectivity=0.0) \n",
      "\n",
      "@ShahidaQureshi5 I said it cause American people themselves say this too othar than my observation and knowledge… https://t.co/5Nb1yi0gmq\n",
      "Sentiment(polarity=0.0, subjectivity=0.0) \n",
      "\n",
      "@NFL I thought the league was about the safety of the players... miss the clearly pass interference but miss the he… https://t.co/Ncdabex0Ex\n",
      "Sentiment(polarity=0.10000000000000002, subjectivity=0.3833333333333333) \n",
      "\n",
      "@RachelH99000775 @mbowman73 @JudgeJeanine @charliekirk11 #DACA is just a sideshow to #Trump and has no direct relat… https://t.co/yGLkpAmsIn\n",
      "Sentiment(polarity=-0.05, subjectivity=0.4) \n",
      "\n",
      "@Goss30Goss @GOP When they think their seats are in jeopardy and they wont have fox news and other right wing media nuts coming after them.\n",
      "Sentiment(polarity=0.08035714285714285, subjectivity=0.45535714285714285) \n",
      "\n",
      "That interception was the most angry I’ve ever seen Mike except for that one time we got into a fight over Jeopardy.\n",
      "Sentiment(polarity=0.0, subjectivity=0.75) \n",
      "\n",
      "RT @Scraawl: Machine Learning Marketing Uses: How to Enhance Analytics and Win Jeopardy. #machinelearning #analytics #AI -  https://t.co/a9…\n",
      "Sentiment(polarity=0.8, subjectivity=0.4) \n",
      "\n",
      "@alex_dutton8 @JOEL9ONE No. Still no. I hate the internet. Are yiu kidding about the double jeopardy meaning? Lol\n",
      "Sentiment(polarity=0.4000000000000001, subjectivity=0.5333333333333333) \n",
      "\n",
      "@HidingHeather @_jorn @ChrisWarcraft that plaster mountus rushmore. See, a fortnight ago, he was watching Jeopardy… https://t.co/6Al3996aah\n",
      "Sentiment(polarity=0.0, subjectivity=0.0) \n",
      "\n",
      "@jonweisman It's a weird parallel but on some Jeopardy contestant sites, people ask former contestants why they did… https://t.co/MoP8F07Met\n",
      "Sentiment(polarity=-0.16666666666666666, subjectivity=0.3333333333333333) \n",
      "\n",
      "A2: Hard to choose! For test prep, I’d say playing Jeopardy games. #ELLEdTech\n",
      "Sentiment(polarity=-0.36458333333333337, subjectivity=0.5416666666666666) \n",
      "\n",
      "@LilMissR0cky Hahaha... Now You know. In case it's like a final jeopardy question or something\n",
      "Sentiment(polarity=0.1, subjectivity=0.7) \n",
      "\n",
      "RT @JenWritesBooks2: Yes, those #CovingtonBoys lives are now in jeopardy b/c it's now proven with full video that the media LIED about what…\n",
      "Sentiment(polarity=0.35, subjectivity=0.55) \n",
      "\n",
      "@CoughWhitlam @SkyNewsAust @greencate Funny if I took drugs my employment would be in jeopardy why shouldn't she be… https://t.co/2MKVJlWU0T\n",
      "Sentiment(polarity=0.25, subjectivity=1.0) \n",
      "\n"
     ]
    }
   ],
   "source": [
    "for tweet in public_tweets:\n",
    "    print(tweet.text)\n",
    "    analysis = TextBlob(tweet.text)\n",
    "    print(analysis.sentiment, '\\n')"
   ]
  }
 ],
 "metadata": {
  "kernelspec": {
   "display_name": "Python 3",
   "language": "python",
   "name": "python3"
  },
  "language_info": {
   "codemirror_mode": {
    "name": "ipython",
    "version": 3
   },
   "file_extension": ".py",
   "mimetype": "text/x-python",
   "name": "python",
   "nbconvert_exporter": "python",
   "pygments_lexer": "ipython3",
   "version": "3.5.2"
  }
 },
 "nbformat": 4,
 "nbformat_minor": 2
}
