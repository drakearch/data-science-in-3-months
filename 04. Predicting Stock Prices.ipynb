{
 "cells": [
  {
   "cell_type": "markdown",
   "metadata": {},
   "source": [
    "# Predicting Stock Prices\n",
    "Importing libraries."
   ]
  },
  {
   "cell_type": "code",
   "execution_count": 1,
   "metadata": {
    "collapsed": true
   },
   "outputs": [],
   "source": [
    "import numpy as np\n",
    "import matplotlib.pyplot as plt\n",
    "from sklearn.svm import SVR\n",
    "import csv"
   ]
  },
  {
   "cell_type": "markdown",
   "metadata": {},
   "source": [
    "Getting data from csv file."
   ]
  },
  {
   "cell_type": "code",
   "execution_count": 2,
   "metadata": {
    "collapsed": false
   },
   "outputs": [
    {
     "name": "stdout",
     "output_type": "stream",
     "text": [
      "[31] 157.74\n",
      "[28] 156.23\n",
      "[27] 156.15\n",
      "[26] 157.17\n",
      "[24] 146.83\n",
      "[21] 150.73\n",
      "[20] 156.83\n",
      "[19] 160.89\n",
      "[18] 166.07\n",
      "[17] 163.94\n",
      "[14] 165.48\n",
      "[13] 170.95\n",
      "[12] 169.1\n",
      "[11] 168.63\n",
      "[10] 169.6\n",
      "[7] 168.49\n",
      "[6] 174.72\n",
      "[4] 176.69\n",
      "[3] 184.82\n"
     ]
    }
   ],
   "source": [
    "def get_data(filename):\n",
    "    dates = []\n",
    "    prices = []\n",
    "    with open(filename, 'r') as file:\n",
    "        csvReader = csv.reader(file)\n",
    "        next(csvReader)\n",
    "        next(csvReader)\n",
    "        for row in csvReader:\n",
    "            dates.append(int(row[0].split('/')[2]))\n",
    "            prices.append(float(row[1]))\n",
    "    dates = np.reshape(dates, (len(dates), 1))\n",
    "    return dates[13:32], prices[13:32]\n",
    "\n",
    "dates, prices = get_data('data/appleHistoricalQuotes.csv')\n",
    "\n",
    "for date, price in zip(dates, prices):\n",
    "    print(date, price)"
   ]
  },
  {
   "cell_type": "markdown",
   "metadata": {},
   "source": [
    "Initializing models and defining training function."
   ]
  },
  {
   "cell_type": "code",
   "execution_count": 3,
   "metadata": {
    "collapsed": false
   },
   "outputs": [
    {
     "name": "stdout",
     "output_type": "stream",
     "text": [
      "Training Linear model ...\n",
      "Linear model trained.\n",
      "Training Polynomial model ...\n",
      "Polynomial model trained.\n",
      "Training RBF model ...\n",
      "RBF model trained.\n"
     ]
    }
   ],
   "source": [
    "model_names = ['Linear model', 'Polynomial model', 'RBF model']\n",
    "\n",
    "models = [\n",
    "    SVR(kernel='linear', C=1e3),\n",
    "    SVR(kernel='poly', C=1e3, degree=2),\n",
    "    SVR(kernel='rbf', C=1e3, gamma=0.1)]\n",
    "\n",
    "def train_models(dates, prices, models, model_names):\n",
    "    for model, name in zip(models, model_names):\n",
    "        print('Training', name, '...')\n",
    "        model.fit(dates, prices)\n",
    "        print(name, 'trained.')\n",
    "    return\n",
    "\n",
    "train_models(dates, prices, models, model_names)"
   ]
  },
  {
   "cell_type": "markdown",
   "metadata": {},
   "source": [
    "Function for predicting prices and plot."
   ]
  },
  {
   "cell_type": "code",
   "execution_count": 4,
   "metadata": {
    "collapsed": false
   },
   "outputs": [
    {
     "data": {
      "image/png": "[encoded data removed]",
      "text/plain": [
       "<matplotlib.figure.Figure at 0x1f695c345f8>"
      ]
     },
     "metadata": {},
     "output_type": "display_data"
    }
   ],
   "source": [
    "def plot_predictions(dates, prices, models, model_names, colors):\n",
    "    plt.scatter(dates, prices, color='black', label='Data')\n",
    "    for model, name, color in zip(models, model_names, colors):\n",
    "        plt.plot(dates, model.predict(dates), color=color, label=name)\n",
    "    plt.xlabel('Date')\n",
    "    plt.ylabel('Price')\n",
    "    plt.title('Support Vector Regression')\n",
    "    plt.legend()\n",
    "    plt.show()\n",
    "    return\n",
    "\n",
    "colors = ['red', 'green', 'blue']\n",
    "\n",
    "plot_predictions(dates, prices, models, model_names, colors)"
   ]
  }
 ],
 "metadata": {
  "kernelspec": {
   "display_name": "Python 3",
   "language": "python",
   "name": "python3"
  },
  "language_info": {
   "codemirror_mode": {
    "name": "ipython",
    "version": 3
   },
   "file_extension": ".py",
   "mimetype": "text/x-python",
   "name": "python",
   "nbconvert_exporter": "python",
   "pygments_lexer": "ipython3",
   "version": "3.5.2"
  }
 },
 "nbformat": 4,
 "nbformat_minor": 2
}
