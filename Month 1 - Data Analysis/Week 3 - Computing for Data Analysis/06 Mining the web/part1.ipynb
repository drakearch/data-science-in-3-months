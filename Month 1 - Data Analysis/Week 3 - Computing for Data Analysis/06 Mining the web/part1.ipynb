{
    "cells": [
        {
            "cell_type": "markdown",
            "metadata": {
                "nbgrader": {
                    "grade": false,
                    "grade_id": "cell-c075516d369362c8",
                    "locked": true,
                    "schema_version": 1,
                    "solution": false
                }
            },
            "source": [
                "## Part 1: Tools to process HTML\n",
                "\n",
                "In Part 0, you downloaded real web pages and manipulated them using \"conventional\" string processing tools, like [`str`]() functions or [regular expressions]().\n",
                "\n",
                "However, web pages are stored in HTML ([hypertext markup language]()), which is a highly structured format. As such, it makes sense to use specialized tools to understand and process its structure. That's the subject of this notebook."
            ]
        },
        {
            "cell_type": "markdown",
            "metadata": {
                "nbgrader": {
                    "grade": false,
                    "grade_id": "cell-43e7e5ddf6ea837d",
                    "locked": true,
                    "schema_version": 1,
                    "solution": false
                }
            },
            "source": [
                "## Parsing HTML: The Beautiful Soup module\n",
                "\n",
                "One such package to help process HTML is [Beautiful Soup](https:\/\/www.crummy.com\/software\/BeautifulSoup\/). The following is a quick tutorial on how to use it.\n",
                "\n",
                "Any HTML document may be modeled as an object in computer science known as a [tree](https:\/\/en.wikipedia.org\/wiki\/Tree_(data_structure)):\n",
                "\n",
                "![HTML as a tree](.\/html-slide.png)\n",
                "\n",
                "There are different ways to define trees, but for our purposes, the following will be sufficient."
            ]
        },
        {
            "cell_type": "markdown",
            "metadata": {
                "nbgrader": {
                    "grade": false,
                    "grade_id": "cell-c52d068f57ed8895",
                    "locked": true,
                    "schema_version": 1,
                    "solution": false
                }
            },
            "source": [
                "Consider a tree is a collection of _nodes_, which are the labeled boxes in the figure, and _edges_, which are the line segments connecting nodes, with the following special structure.\n",
                "\n",
                "* The node at the top is called the _root_. Here, the root is labeled `html` and abstractly represents the entire HTML document.\n",
                "* Regard each edge as always \"pointing\" from the node at its top end to the node at its bottom end. For any edge, the node at its top end is the _parent_ and the node at the bottom end is a _child_. Like real families, a parent can be a child. For example, the node labeled `head` is the child of `html` and the parent of `meta`, `title`, and `style`.\n",
                "* The _descendant_ of a node $x$ is any node $y$ for which there is a path from $x$ going down to $y$. For example, the node labeled `6x span` is a descendant of the node `body`. All nodes are descendants of the root.\n",
                "* Any node with _no_ descendants is a _leaf_.\n",
                "* Any node that is neither a root nor a leaf is an _internal node_.\n",
                "* There are no _cycles_. A cycle would be a loop. For instance, if you were to add an edge between the two lower rightmost nodes labeled, `strong` and `strong`, that would create a loop and the object would no longer be a tree.\n",
                "\n",
                "> For whatever reason, [computer scientists usually view trees upside down](https:\/\/www.quora.com\/Why-are-trees-in-computer-science-generally-drawn-upside-down-from-how-trees-are-in-real-life), with the \"root\" at the top and the \"leaves\" at the bottom."
            ]
        },
        {
            "cell_type": "markdown",
            "metadata": {
                "nbgrader": {
                    "grade": false,
                    "grade_id": "cell-f50c89e450930a0f",
                    "locked": true,
                    "schema_version": 1,
                    "solution": false
                }
            },
            "source": [
                "The Beautiful Soup package gives you a data structure for traversing this tree. For instance, consider an HTML file with the contents below, shown both as code and pictorially."
            ]
        },
        {
            "cell_type": "code",
            "execution_count": null,
            "metadata": {
                "nbgrader": {
                    "grade": false,
                    "grade_id": "cell-3e6d9fce3f852df9",
                    "locked": true,
                    "schema_version": 1,
                    "solution": false
                }
            },
            "outputs": [],
            "source": [
                "some_page = \"\"\"\n",
                "<html>\n",
                "  <body>\n",
                "    <p>First paragraph.<\/p>\n",
                "    <p>Second paragraph, which links to the <a href=\"http:\/\/www.gatech.edu\">Georgia Tech website<\/a>.<\/p>\n",
                "    <p>Third paragraph.<\/p>\n",
                "  <\/body>\n",
                "<\/html>\n",
                "\"\"\"\n",
                "print(some_page)"
            ]
        },
        {
            "cell_type": "markdown",
            "metadata": {
                "nbgrader": {
                    "grade": false,
                    "grade_id": "cell-b10719fa97510cdf",
                    "locked": true,
                    "schema_version": 1,
                    "solution": false
                }
            },
            "source": [
                "![Two visual representations of `some_page`](.\/html-viz.png)"
            ]
        },
        {
            "cell_type": "markdown",
            "metadata": {
                "nbgrader": {
                    "grade": false,
                    "grade_id": "cell-2ffdaae04974caa4",
                    "locked": true,
                    "schema_version": 1,
                    "solution": false
                }
            },
            "source": [
                "**Exercise 0.** Besides HTML files, what else have we seen in this class that could be represented by a tree? Briefly and roughly explain what and how."
            ]
        },
        {
            "cell_type": "markdown",
            "metadata": {
                "nbgrader": {
                    "grade": true,
                    "grade_id": "ex3",
                    "locked": false,
                    "points": 0,
                    "schema_version": 1,
                    "solution": true
                }
            },
            "source": [
                "**Answer.** One thing that has a natural tree representation is a Python program! For example, can you draw the following program as a tree?\n",
                "\n",
                "```python\n",
                "import re\n",
                "\n",
                "def scan_lines(text, pattern):\n",
                "    matches = []\n",
                "    for line in text.split('\\n'):\n",
                "        if re.search(pattern, text) is not None:\n",
                "            matches.append(True)\n",
                "        else:\n",
                "            matches.append(False)\n",
                "    return matches\n",
                "```"
            ]
        },
        {
            "cell_type": "markdown",
            "metadata": {
                "nbgrader": {
                    "grade": false,
                    "grade_id": "cell-f7d60ea487aa01e5",
                    "locked": true,
                    "schema_version": 1,
                    "solution": false
                }
            },
            "source": [
                "## Using Beautiful Soup\n",
                "\n",
                "Here is how you might use Beautiful Soup to inspect the structure of `some_page`.\n",
                "\n",
                "Let's start by taking the contents of the page above (`some_page`) and asking Beautiful Soup to process it. Let's store the result in object named `soup`, and then explore its contents:"
            ]
        },
        {
            "cell_type": "code",
            "execution_count": null,
            "metadata": {
                "nbgrader": {
                    "grade": false,
                    "grade_id": "cell-3e24c3ba0a76eef7",
                    "locked": true,
                    "schema_version": 1,
                    "solution": false
                }
            },
            "outputs": [],
            "source": [
                "from bs4 import BeautifulSoup\n",
                "\n",
                "soup = BeautifulSoup(some_page, \"lxml\")\n",
                "\n",
                "print('1. soup ==', soup) # Print the HTML contents\n",
                "print('\\n2. soup.html ==', soup.html) # Root of the tree\n",
                "print('\\n3. soup.html.body ==', soup.html.body) # A child tag\n",
                "print('\\n4. soup.html.body.p ==', soup.html.body.p) # Another child tag\n",
                "print('\\n5. soup.html.body.contents ==', type(soup.html.body.contents), '::', soup.html.body.contents)"
            ]
        },
        {
            "cell_type": "markdown",
            "metadata": {
                "nbgrader": {
                    "grade": false,
                    "grade_id": "cell-b878deab62a98518",
                    "locked": true,
                    "schema_version": 1,
                    "solution": false
                }
            },
            "source": [
                "Observe that the `.` notation allows us to reference HTML tags---that is, the stuff enclosed in angle brackets in the original HTML, e.g., `<html> ... <\/html>`, `<body> ... <\/body>`---as they are nested. But in the case of the `<body> ... <\/body>` tag, there are multiple subtags. Evidently, `soup.html.body.contents` contains these, as a list, which we know how to manipulate."
            ]
        },
        {
            "cell_type": "code",
            "execution_count": null,
            "metadata": {},
            "outputs": [],
            "source": [
                "# Enumerate all tags within the <body> ... <\/body> tag:\n",
                "for i, elem in enumerate (soup.html.body.contents):\n",
                "    print (\"[{:4d}]\".format (i), type (elem), '\\n\\t==>', \"'{}'\".format (elem))\n",
                "\n",
                "# Reference one of these, element 3:\n",
                "elem3 = soup.html.body.contents[3]\n",
                "print(elem3.contents)"
            ]
        },
        {
            "cell_type": "markdown",
            "metadata": {
                "nbgrader": {
                    "grade": false,
                    "grade_id": "cell-334edd5f6b7fac7b",
                    "locked": true,
                    "schema_version": 1,
                    "solution": false
                }
            },
            "source": [
                "**Exercise 1.** Write a statement that navigates to the tag representing the GT website link. Store this resulting tag object in a variable called `link`."
            ]
        },
        {
            "cell_type": "code",
            "execution_count": null,
            "metadata": {
                "nbgrader": {
                    "grade": false,
                    "grade_id": "ex5",
                    "locked": false,
                    "schema_version": 1,
                    "solution": true
                }
            },
            "outputs": [],
            "source": [
                "#\n",
                "# YOUR CODE HERE\n",
                "#\n",
                "\n",
                "print(link)"
            ]
        },
        {
            "cell_type": "code",
            "execution_count": null,
            "metadata": {
                "collapsed": true,
                "nbgrader": {
                    "grade": true,
                    "grade_id": "ex5_test",
                    "locked": true,
                    "points": 0,
                    "schema_version": 1,
                    "solution": false
                }
            },
            "outputs": [],
            "source": [
                "# Checks your link. Can you understand what it is doing?\n",
                "import bs4\n",
                "assert type(link) is bs4.element.Tag\n",
                "assert link.name == 'a'\n",
                "assert link['href'] == 'http:\/\/www.gatech.edu'\n",
                "assert link.contents == ['Georgia Tech website']"
            ]
        },
        {
            "cell_type": "markdown",
            "metadata": {
                "nbgrader": {
                    "grade": false,
                    "grade_id": "cell-4b2368e9947f3054",
                    "locked": true,
                    "schema_version": 1,
                    "solution": false
                }
            },
            "source": [
                "### Other navigation tools\n",
                "\n",
                "This lab includes a static copy of the Yelp! results for a search of \"universities\" in ATL. Let's start by downloading this file."
            ]
        },
        {
            "cell_type": "code",
            "execution_count": null,
            "metadata": {
                "nbgrader": {
                    "grade": false,
                    "grade_id": "cell-6c5218127e70c014",
                    "locked": true,
                    "schema_version": 1,
                    "solution": false
                },
                "scrolled": true
            },
            "outputs": [],
            "source": [
                "# Run me: Code to download sample HTML file\n",
                "\n",
                "import requests\n",
                "import os\n",
                "import hashlib\n",
                "\n",
                "yelp_htm = 'yelp_atl_unies.html'\n",
                "yelp_htm_checksum = 'a940e7cd0c8c408a5dd2098a87303afe'\n",
                "\n",
                "if os.path.exists('.voc'):\n",
                "    data_url = 'https:\/\/cse6040.gatech.edu\/datasets\/yelp-example-uni\/{}'.format(yelp_htm)\n",
                "else:\n",
                "    data_url = 'https:\/\/github.com\/cse6040\/labs-fa17\/raw\/master\/datasets\/{}'.format(yelp_htm)\n",
                "\n",
                "if not os.path.exists(yelp_htm):\n",
                "    print(\"Downloading: {} ...\".format(data_url))\n",
                "    r = requests.get(data_url)\n",
                "    with open(yelp_htm, 'w', encoding=r.encoding) as f:\n",
                "        f.write(r.text)\n",
                "\n",
                "with open(yelp_htm, 'r') as f:\n",
                "    yelp_html = f.read().encode(encoding='utf-8')\n",
                "    checksum = hashlib.md5(yelp_html).hexdigest()\n",
                "    assert checksum == yelp_htm_checksum, \"Downloaded file has incorrect checksum!\"\n",
                "    \n",
                "print(\"'{}' is ready!\".format(yelp_htm))"
            ]
        },
        {
            "cell_type": "markdown",
            "metadata": {
                "nbgrader": {
                    "grade": false,
                    "grade_id": "cell-68bbb05561a090b8",
                    "locked": true,
                    "schema_version": 1,
                    "solution": false
                }
            },
            "source": [
                "Next, inspect and run this code, which prints the top (number one) result."
            ]
        },
        {
            "cell_type": "code",
            "execution_count": null,
            "metadata": {},
            "outputs": [],
            "source": [
                "uni_html_text = open (yelp_htm, 'r').read()\n",
                "uni_soup = BeautifulSoup(uni_html_text, \"lxml\")\n",
                "\n",
                "print(\"The number 1 ATL university according to Yelp!:\")\n",
                "\n",
                "uni_1 = uni_soup.html.body \\\n",
                "    .contents[7] \\\n",
                "    .contents[9] \\\n",
                "    .contents[3] \\\n",
                "    .contents[1] \\\n",
                "    .contents[3] \\\n",
                "    .contents[1] \\\n",
                "    .contents[1] \\\n",
                "    .contents[7] \\\n",
                "    .contents[3] \\\n",
                "    .contents[5] \\\n",
                "    .contents[1] \\\n",
                "    .contents[1] \\\n",
                "    .contents[1] \\\n",
                "    .contents[1] \\\n",
                "    .contents[3] \\\n",
                "    .contents[1] \\\n",
                "    .contents[1] \\\n",
                "    .contents[1] \\\n",
                "    .contents[0] \\\n",
                "    .contents[0]\n",
                "    \n",
                "print(uni_1)"
            ]
        },
        {
            "cell_type": "markdown",
            "metadata": {
                "nbgrader": {
                    "grade": false,
                    "grade_id": "cell-cfa7415b772a15ad",
                    "locked": true,
                    "schema_version": 1,
                    "solution": false
                }
            },
            "source": [
                "We hope it is self-evident that the above method to navigate to a particular tag or element is not terribly productive or robust, particularly if there are small modifications to the HTML.\n",
                "\n",
                "Here is an alternative. Inspect the raw HTML and observe that every non-ad search result appears in a tag of the form,\n",
                "\n",
                "```html\n",
                "<span class=\"indexed-biz-name\">1.         <a class=\"biz-name js-analytics-click\" data-analytics-label=\"biz-name\" href=\"\/biz\/georgia-institute-of-technology-atlanta-2\" data-hovercard-id=\"gBX8UvhOwtdD5tGJeU-hxg\" ><span >Georgia Institute of Technology<\/span><\/a>\n",
                "<\/span>\n",
                "```\n",
                "\n",
                "Beautiful Soup gives us a way to search for specific tags."
            ]
        },
        {
            "cell_type": "code",
            "execution_count": null,
            "metadata": {
                "nbgrader": {
                    "grade": false,
                    "grade_id": "cell-d121f56efa636843",
                    "locked": true,
                    "schema_version": 1,
                    "solution": false
                }
            },
            "outputs": [],
            "source": [
                "indexed_unies = uni_soup.find_all(attrs={'class': 'indexed-biz-name'})\n",
                "print(\"*** First 5 of {} results ***\\n\\n{}\".format(len(indexed_unies), indexed_unies[:5]))"
            ]
        },
        {
            "cell_type": "markdown",
            "metadata": {
                "nbgrader": {
                    "grade": false,
                    "grade_id": "cell-d26c59c6b89e51b8",
                    "locked": true,
                    "schema_version": 1,
                    "solution": false
                }
            },
            "source": [
                "**Exercise 2.** Based on the above, write a function that, given a Yelp! search results page such as `uni_soup` above, returns the name of the number 1 indexed search result."
            ]
        },
        {
            "cell_type": "code",
            "execution_count": null,
            "metadata": {
                "collapsed": true,
                "nbgrader": {
                    "grade": false,
                    "grade_id": "ex6",
                    "locked": false,
                    "schema_version": 1,
                    "solution": true
                }
            },
            "outputs": [],
            "source": [
                "def get_top_yelp_result(soup):\n",
                "    \"\"\"Given a Yelp! search result as a Beautiful Soup page,\n",
                "    returns the name of the number 1 indexed result.\n",
                "    \"\"\"\n",
                "    #\n",
                "    # YOUR CODE HERE\n",
                "    #\n"
            ]
        },
        {
            "cell_type": "code",
            "execution_count": null,
            "metadata": {
                "nbgrader": {
                    "grade": true,
                    "grade_id": "ex6_test",
                    "locked": true,
                    "points": 0,
                    "schema_version": 1,
                    "solution": false
                }
            },
            "outputs": [],
            "source": [
                "print(get_top_yelp_result(uni_soup))\n",
                "assert get_top_yelp_result(uni_soup) == 'Georgia Institute of Technology'"
            ]
        },
        {
            "cell_type": "markdown",
            "metadata": {
                "nbgrader": {
                    "grade": false,
                    "grade_id": "cell-c21b203ae30914dc",
                    "locked": true,
                    "schema_version": 1,
                    "solution": false
                }
            },
            "source": [
                "This mini-tutorial only scratches the surface of what is possible with Beautiful Soup. As always, refer to the [package's documentation](https:\/\/www.crummy.com\/software\/BeautifulSoup\/) for all the awesome deets!"
            ]
        }
    ],
    "metadata": {
        "celltoolbar": "Create Assignment",
        "kernelspec": {
            "display_name": "Python 3.6 (beta)",
            "language": "python",
            "name": "python36"
        },
        "language_info": {
            "codemirror_mode": {
                "name": "ipython",
                "version": 3
            },
            "file_extension": ".py",
            "mimetype": "text\/x-python",
            "name": "python",
            "nbconvert_exporter": "python",
            "pygments_lexer": "ipython3",
            "version": "3.6.4"
        }
    },
    "nbformat": 4,
    "nbformat_minor": 2
}