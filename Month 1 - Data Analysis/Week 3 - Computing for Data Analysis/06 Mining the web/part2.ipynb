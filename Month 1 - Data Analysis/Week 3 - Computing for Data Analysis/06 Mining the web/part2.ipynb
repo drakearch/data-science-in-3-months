{
    "cells": [
        {
            "cell_type": "markdown",
            "metadata": {
                "nbgrader": {
                    "grade": false,
                    "grade_id": "cell-6f2b19db531e74fd",
                    "locked": true,
                    "schema_version": 1,
                    "solution": false
                }
            },
            "source": [
                "# Part 2: Mining the web: Web APIs\n",
                "\n",
                "We hope the preceding exercise was painful: even with tools to process HTML, it is rough downloading raw HTML and trying to extract information from it!\n",
                "\n",
                "> Can you think of any other reasons why scraping websites for data in this way is not a good idea?\n",
                "\n",
                "Luckily, many websites provide an application programming interface (API) for querying their data or otherwise accessing their services from your programs. For instance, Twitter provides a web API for gathering tweets, Flickr provides one for gathering image data, and Github for accessing information about repository histories.\n",
                "\n",
                "These kinds of web APIs are much easier to use than, for instance, the preceding technique which scrapes raw web pages and then has to parse the resulting HTML. Moreover, there are more scalable in the sense that the web servers can transmit structured data in a less verbose form than raw HTML.\n",
                "\n",
                "As a starting example, here is some code to look at the activity on Github related to the public version of our course's materials."
            ]
        },
        {
            "cell_type": "code",
            "execution_count": null,
            "metadata": {
                "collapsed": true,
                "nbgrader": {
                    "grade": false,
                    "grade_id": "cell-e969cac2e271f5ec",
                    "locked": true,
                    "schema_version": 1,
                    "solution": false
                }
            },
            "outputs": [],
            "source": [
                "import requests\n",
                "\n",
                "response = requests.get ('https:\/\/api.github.com\/repos\/cse6040\/labs-fa17\/events')\n",
                "\n",
                "print (\"==> .headers:\", response.headers, \"\\n\")"
            ]
        },
        {
            "cell_type": "markdown",
            "metadata": {
                "nbgrader": {
                    "grade": false,
                    "grade_id": "cell-2a08d680885303e5",
                    "locked": true,
                    "schema_version": 1,
                    "solution": false
                }
            },
            "source": [
                "Note the `Content-Type` of the response:"
            ]
        },
        {
            "cell_type": "code",
            "execution_count": null,
            "metadata": {
                "collapsed": true,
                "nbgrader": {
                    "grade": false,
                    "grade_id": "cell-89ebf4242e6c1940",
                    "locked": true,
                    "schema_version": 1,
                    "solution": false
                }
            },
            "outputs": [],
            "source": [
                "print (response.headers['Content-Type'])"
            ]
        },
        {
            "cell_type": "markdown",
            "metadata": {
                "nbgrader": {
                    "grade": false,
                    "grade_id": "cell-752159137c70eb17",
                    "locked": true,
                    "schema_version": 1,
                    "solution": false
                }
            },
            "source": [
                "The response is in JSON format, which is an open format for exchanging semi-structured data. (JSON stands for **J**ava**S**cript **O**bject **N**otation.) JSON is designed to be human-readable and machine-readable, and maps especially well in Python to nested dictionaries. Let's take a look.\n",
                "\n",
                "> See also [this tutorial](https:\/\/www.w3schools.com\/js\/js_json_intro.asp) for a JSON primer. JSON is among _the_ universal formats for sharing data on the web; see, for instance, https:\/\/www.sitepoint.com\/10-example-json-files\/."
            ]
        },
        {
            "cell_type": "code",
            "execution_count": null,
            "metadata": {
                "collapsed": true,
                "nbgrader": {
                    "grade": false,
                    "grade_id": "cell-4bcf26ae80bab53b",
                    "locked": true,
                    "schema_version": 1,
                    "solution": false
                }
            },
            "outputs": [],
            "source": [
                "import json\n",
                "print(type(response.json ()))\n",
                "print(json.dumps(response.json()[:3], sort_keys=True, indent=2))"
            ]
        },
        {
            "cell_type": "markdown",
            "metadata": {
                "nbgrader": {
                    "grade": false,
                    "grade_id": "cell-5be03b16bcb0c40f",
                    "locked": true,
                    "schema_version": 1,
                    "solution": false
                }
            },
            "source": [
                "**Exercise 0.** It should be self-evident that the JSON response above consists of a sequence of records, which we will refer to as _events_. Each event is associated with an _actor_. Write some code to extract a dictionary of all actors, where the key is the actor's login and the value is the actor's URL."
            ]
        },
        {
            "cell_type": "code",
            "execution_count": null,
            "metadata": {
                "collapsed": true,
                "nbgrader": {
                    "grade": false,
                    "grade_id": "extract_actors",
                    "locked": false,
                    "schema_version": 1,
                    "solution": true
                }
            },
            "outputs": [],
            "source": [
                "def extract_actors (json_github_events):\n",
                "    \"\"\"Given JSON records for events in a GitHub repo,\n",
                "    returns a dictionary of the actors and their URLs.\n",
                "    \"\"\"\n",
                "    #\n",
                "    # YOUR CODE HERE\n",
                "    #\n"
            ]
        },
        {
            "cell_type": "code",
            "execution_count": null,
            "metadata": {
                "collapsed": true,
                "nbgrader": {
                    "grade": true,
                    "grade_id": "extract_actors_test",
                    "locked": true,
                    "points": 0,
                    "schema_version": 1,
                    "solution": false
                }
            },
            "outputs": [],
            "source": [
                "actor_urls = extract_actors(response.json ())\n",
                "\n",
                "for actor, url in actor_urls.items ():\n",
                "    print ('{}: {}'.format(actor, url))\n",
                "    assert url == \"https:\/\/api.github.com\/users\/{}\".format(actor)"
            ]
        },
        {
            "cell_type": "markdown",
            "metadata": {
                "nbgrader": {
                    "grade": false,
                    "grade_id": "cell-23355ce56dd4dcdc",
                    "locked": true,
                    "schema_version": 1,
                    "solution": false
                }
            },
            "source": [
                "**Exercise 1.** Write some code that goes to each actor's URL and determines their name. If an actor URL is invalid, that actor should not appear in the output."
            ]
        },
        {
            "cell_type": "code",
            "execution_count": null,
            "metadata": {
                "collapsed": true,
                "nbgrader": {
                    "grade": false,
                    "grade_id": "get_names",
                    "locked": false,
                    "schema_version": 1,
                    "solution": true
                }
            },
            "outputs": [],
            "source": [
                "def lookup_names (actor_urls):\n",
                "    \"\"\"Given a dictionary of (actor, url) pairs, looks up the JSON at\n",
                "    the URL and extracts the user's name (if any). Returns a new\n",
                "    dictionary of (actor, name) pairs.\n",
                "    \"\"\"\n",
                "    #\n",
                "    # YOUR CODE HERE\n",
                "    #\n"
            ]
        },
        {
            "cell_type": "code",
            "execution_count": null,
            "metadata": {
                "collapsed": true,
                "nbgrader": {
                    "grade": true,
                    "grade_id": "get_names_test",
                    "locked": true,
                    "points": 0,
                    "schema_version": 1,
                    "solution": false
                }
            },
            "outputs": [],
            "source": [
                "actor_names = lookup_names (actor_urls)\n",
                "\n",
                "for actor, name in actor_names.items ():\n",
                "    print (\"{}: {}\".format (actor, name))\n",
                "    \n",
                "assert actor_names['microjrm'] == 'Jonathan Motyka'"
            ]
        },
        {
            "cell_type": "markdown",
            "metadata": {
                "nbgrader": {
                    "grade": false,
                    "grade_id": "cell-ae7abfbce62b1cd6",
                    "locked": true,
                    "schema_version": 1,
                    "solution": false
                }
            },
            "source": [
                "That's the end of this notebook. Processing JSON is fairly straightforward, because it maps very naturally to nested dictionaries in Python. You might search the web for other sources of JSON data, including [this one](https:\/\/www.yelp.com\/dataset\/challenge), and do your own processing!"
            ]
        }
    ],
    "metadata": {
        "celltoolbar": "Create Assignment",
        "kernelspec": {
            "display_name": "Python 3.6 [deprecated]",
            "language": "python",
            "name": "python36"
        },
        "language_info": {
            "codemirror_mode": {
                "name": "ipython",
                "version": 3
            },
            "file_extension": ".py",
            "mimetype": "text\/x-python",
            "name": "python",
            "nbconvert_exporter": "python",
            "pygments_lexer": "ipython3",
            "version": "3.6.4"
        }
    },
    "nbformat": 4,
    "nbformat_minor": 1
}