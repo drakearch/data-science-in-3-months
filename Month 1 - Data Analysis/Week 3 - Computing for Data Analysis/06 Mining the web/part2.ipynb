{
 "cells": [
  {
   "cell_type": "markdown",
   "metadata": {
    "nbgrader": {
     "grade": false,
     "grade_id": "cell-6f2b19db531e74fd",
     "locked": true,
     "schema_version": 1,
     "solution": false
    }
   },
   "source": [
    "# Part 2: Mining the web: Web APIs\n",
    "\n",
    "We hope the preceding exercise was painful: even with tools to process HTML, it is rough downloading raw HTML and trying to extract information from it!\n",
    "\n",
    "> Can you think of any other reasons why scraping websites for data in this way is not a good idea?\n",
    "\n",
    "Luckily, many websites provide an application programming interface (API) for querying their data or otherwise accessing their services from your programs. For instance, Twitter provides a web API for gathering tweets, Flickr provides one for gathering image data, and Github for accessing information about repository histories.\n",
    "\n",
    "These kinds of web APIs are much easier to use than, for instance, the preceding technique which scrapes raw web pages and then has to parse the resulting HTML. Moreover, there are more scalable in the sense that the web servers can transmit structured data in a less verbose form than raw HTML.\n",
    "\n",
    "As a starting example, here is some code to look at the activity on Github related to the public version of our course's materials."
   ]
  },
  {
   "cell_type": "code",
   "execution_count": 1,
   "metadata": {
    "nbgrader": {
     "grade": false,
     "grade_id": "cell-e969cac2e271f5ec",
     "locked": true,
     "schema_version": 1,
     "solution": false
    }
   },
   "outputs": [
    {
     "name": "stdout",
     "output_type": "stream",
     "text": [
      "==> .headers: {'Server': 'GitHub.com', 'Date': 'Fri, 15 Feb 2019 21:19:41 GMT', 'Content-Type': 'application/json; charset=utf-8', 'Transfer-Encoding': 'chunked', 'Status': '200 OK', 'X-RateLimit-Limit': '60', 'X-RateLimit-Remaining': '26', 'X-RateLimit-Reset': '1550266846', 'Cache-Control': 'public, max-age=60, s-maxage=60', 'Vary': 'Accept', 'ETag': 'W/\"75e5e4b88e11487c827e95f98d8d1b3b\"', 'Last-Modified': 'Tue, 05 Feb 2019 14:27:47 GMT', 'X-Poll-Interval': '60', 'X-GitHub-Media-Type': 'github.v3; format=json', 'Access-Control-Expose-Headers': 'ETag, Link, Location, Retry-After, X-GitHub-OTP, X-RateLimit-Limit, X-RateLimit-Remaining, X-RateLimit-Reset, X-OAuth-Scopes, X-Accepted-OAuth-Scopes, X-Poll-Interval, X-GitHub-Media-Type', 'Access-Control-Allow-Origin': '*', 'Strict-Transport-Security': 'max-age=31536000; includeSubdomains; preload', 'X-Frame-Options': 'deny', 'X-Content-Type-Options': 'nosniff', 'X-XSS-Protection': '1; mode=block', 'Referrer-Policy': 'origin-when-cross-origin, strict-origin-when-cross-origin', 'Content-Security-Policy': \"default-src 'none'\", 'Content-Encoding': 'gzip', 'X-GitHub-Request-Id': 'FE92:148C:1115A80:25119E6:5C672CED'} \n",
      "\n"
     ]
    }
   ],
   "source": [
    "import requests\n",
    "\n",
    "response = requests.get ('https://api.github.com/repos/cse6040/labs-fa17/events')\n",
    "\n",
    "print (\"==> .headers:\", response.headers, \"\\n\")"
   ]
  },
  {
   "cell_type": "markdown",
   "metadata": {
    "nbgrader": {
     "grade": false,
     "grade_id": "cell-2a08d680885303e5",
     "locked": true,
     "schema_version": 1,
     "solution": false
    }
   },
   "source": [
    "Note the `Content-Type` of the response:"
   ]
  },
  {
   "cell_type": "code",
   "execution_count": 2,
   "metadata": {
    "nbgrader": {
     "grade": false,
     "grade_id": "cell-89ebf4242e6c1940",
     "locked": true,
     "schema_version": 1,
     "solution": false
    }
   },
   "outputs": [
    {
     "name": "stdout",
     "output_type": "stream",
     "text": [
      "application/json; charset=utf-8\n"
     ]
    }
   ],
   "source": [
    "print (response.headers['Content-Type'])"
   ]
  },
  {
   "cell_type": "markdown",
   "metadata": {
    "nbgrader": {
     "grade": false,
     "grade_id": "cell-752159137c70eb17",
     "locked": true,
     "schema_version": 1,
     "solution": false
    }
   },
   "source": [
    "The response is in JSON format, which is an open format for exchanging semi-structured data. (JSON stands for **J**ava**S**cript **O**bject **N**otation.) JSON is designed to be human-readable and machine-readable, and maps especially well in Python to nested dictionaries. Let's take a look.\n",
    "\n",
    "> See also [this tutorial](https://www.w3schools.com/js/js_json_intro.asp) for a JSON primer. JSON is among _the_ universal formats for sharing data on the web; see, for instance, https://www.sitepoint.com/10-example-json-files/."
   ]
  },
  {
   "cell_type": "code",
   "execution_count": 3,
   "metadata": {
    "nbgrader": {
     "grade": false,
     "grade_id": "cell-4bcf26ae80bab53b",
     "locked": true,
     "schema_version": 1,
     "solution": false
    }
   },
   "outputs": [
    {
     "name": "stdout",
     "output_type": "stream",
     "text": [
      "<class 'list'>\n",
      "[\n",
      "  {\n",
      "    \"actor\": {\n",
      "      \"avatar_url\": \"https://avatars.githubusercontent.com/u/31219281?\",\n",
      "      \"display_login\": \"vorsatti\",\n",
      "      \"gravatar_id\": \"\",\n",
      "      \"id\": 31219281,\n",
      "      \"login\": \"vorsatti\",\n",
      "      \"url\": \"https://api.github.com/users/vorsatti\"\n",
      "    },\n",
      "    \"created_at\": \"2019-02-05T14:27:47Z\",\n",
      "    \"id\": \"9011334282\",\n",
      "    \"org\": {\n",
      "      \"avatar_url\": \"https://avatars.githubusercontent.com/u/31073927?\",\n",
      "      \"gravatar_id\": \"\",\n",
      "      \"id\": 31073927,\n",
      "      \"login\": \"cse6040\",\n",
      "      \"url\": \"https://api.github.com/orgs/cse6040\"\n",
      "    },\n",
      "    \"payload\": {\n",
      "      \"action\": \"started\"\n",
      "    },\n",
      "    \"public\": true,\n",
      "    \"repo\": {\n",
      "      \"id\": 100506580,\n",
      "      \"name\": \"cse6040/labs-fa17\",\n",
      "      \"url\": \"https://api.github.com/repos/cse6040/labs-fa17\"\n",
      "    },\n",
      "    \"type\": \"WatchEvent\"\n",
      "  },\n",
      "  {\n",
      "    \"actor\": {\n",
      "      \"avatar_url\": \"https://avatars.githubusercontent.com/u/10697135?\",\n",
      "      \"display_login\": \"rajpaz\",\n",
      "      \"gravatar_id\": \"\",\n",
      "      \"id\": 10697135,\n",
      "      \"login\": \"rajpaz\",\n",
      "      \"url\": \"https://api.github.com/users/rajpaz\"\n",
      "    },\n",
      "    \"created_at\": \"2019-01-26T19:28:29Z\",\n",
      "    \"id\": \"8956666918\",\n",
      "    \"org\": {\n",
      "      \"avatar_url\": \"https://avatars.githubusercontent.com/u/31073927?\",\n",
      "      \"gravatar_id\": \"\",\n",
      "      \"id\": 31073927,\n",
      "      \"login\": \"cse6040\",\n",
      "      \"url\": \"https://api.github.com/orgs/cse6040\"\n",
      "    },\n",
      "    \"payload\": {\n",
      "      \"forkee\": {\n",
      "        \"archive_url\": \"https://api.github.com/repos/rajpaz/labs-fa17/{archive_format}{/ref}\",\n",
      "        \"archived\": false,\n",
      "        \"assignees_url\": \"https://api.github.com/repos/rajpaz/labs-fa17/assignees{/user}\",\n",
      "        \"blobs_url\": \"https://api.github.com/repos/rajpaz/labs-fa17/git/blobs{/sha}\",\n",
      "        \"branches_url\": \"https://api.github.com/repos/rajpaz/labs-fa17/branches{/branch}\",\n",
      "        \"clone_url\": \"https://github.com/rajpaz/labs-fa17.git\",\n",
      "        \"collaborators_url\": \"https://api.github.com/repos/rajpaz/labs-fa17/collaborators{/collaborator}\",\n",
      "        \"comments_url\": \"https://api.github.com/repos/rajpaz/labs-fa17/comments{/number}\",\n",
      "        \"commits_url\": \"https://api.github.com/repos/rajpaz/labs-fa17/commits{/sha}\",\n",
      "        \"compare_url\": \"https://api.github.com/repos/rajpaz/labs-fa17/compare/{base}...{head}\",\n",
      "        \"contents_url\": \"https://api.github.com/repos/rajpaz/labs-fa17/contents/{+path}\",\n",
      "        \"contributors_url\": \"https://api.github.com/repos/rajpaz/labs-fa17/contributors\",\n",
      "        \"created_at\": \"2019-01-26T19:28:29Z\",\n",
      "        \"default_branch\": \"master\",\n",
      "        \"deployments_url\": \"https://api.github.com/repos/rajpaz/labs-fa17/deployments\",\n",
      "        \"description\": \"Lab notebooks for the Fall 2017 offering of Georgia Tech's CSE 6040\",\n",
      "        \"downloads_url\": \"https://api.github.com/repos/rajpaz/labs-fa17/downloads\",\n",
      "        \"events_url\": \"https://api.github.com/repos/rajpaz/labs-fa17/events\",\n",
      "        \"fork\": true,\n",
      "        \"forks\": 0,\n",
      "        \"forks_count\": 0,\n",
      "        \"forks_url\": \"https://api.github.com/repos/rajpaz/labs-fa17/forks\",\n",
      "        \"full_name\": \"rajpaz/labs-fa17\",\n",
      "        \"git_commits_url\": \"https://api.github.com/repos/rajpaz/labs-fa17/git/commits{/sha}\",\n",
      "        \"git_refs_url\": \"https://api.github.com/repos/rajpaz/labs-fa17/git/refs{/sha}\",\n",
      "        \"git_tags_url\": \"https://api.github.com/repos/rajpaz/labs-fa17/git/tags{/sha}\",\n",
      "        \"git_url\": \"git://github.com/rajpaz/labs-fa17.git\",\n",
      "        \"has_downloads\": true,\n",
      "        \"has_issues\": false,\n",
      "        \"has_pages\": false,\n",
      "        \"has_projects\": true,\n",
      "        \"has_wiki\": true,\n",
      "        \"homepage\": null,\n",
      "        \"hooks_url\": \"https://api.github.com/repos/rajpaz/labs-fa17/hooks\",\n",
      "        \"html_url\": \"https://github.com/rajpaz/labs-fa17\",\n",
      "        \"id\": 167729834,\n",
      "        \"issue_comment_url\": \"https://api.github.com/repos/rajpaz/labs-fa17/issues/comments{/number}\",\n",
      "        \"issue_events_url\": \"https://api.github.com/repos/rajpaz/labs-fa17/issues/events{/number}\",\n",
      "        \"issues_url\": \"https://api.github.com/repos/rajpaz/labs-fa17/issues{/number}\",\n",
      "        \"keys_url\": \"https://api.github.com/repos/rajpaz/labs-fa17/keys{/key_id}\",\n",
      "        \"labels_url\": \"https://api.github.com/repos/rajpaz/labs-fa17/labels{/name}\",\n",
      "        \"language\": null,\n",
      "        \"languages_url\": \"https://api.github.com/repos/rajpaz/labs-fa17/languages\",\n",
      "        \"license\": null,\n",
      "        \"merges_url\": \"https://api.github.com/repos/rajpaz/labs-fa17/merges\",\n",
      "        \"milestones_url\": \"https://api.github.com/repos/rajpaz/labs-fa17/milestones{/number}\",\n",
      "        \"mirror_url\": null,\n",
      "        \"name\": \"labs-fa17\",\n",
      "        \"node_id\": \"MDEwOlJlcG9zaXRvcnkxNjc3Mjk4MzQ=\",\n",
      "        \"notifications_url\": \"https://api.github.com/repos/rajpaz/labs-fa17/notifications{?since,all,participating}\",\n",
      "        \"open_issues\": 0,\n",
      "        \"open_issues_count\": 0,\n",
      "        \"owner\": {\n",
      "          \"avatar_url\": \"https://avatars0.githubusercontent.com/u/10697135?v=4\",\n",
      "          \"events_url\": \"https://api.github.com/users/rajpaz/events{/privacy}\",\n",
      "          \"followers_url\": \"https://api.github.com/users/rajpaz/followers\",\n",
      "          \"following_url\": \"https://api.github.com/users/rajpaz/following{/other_user}\",\n",
      "          \"gists_url\": \"https://api.github.com/users/rajpaz/gists{/gist_id}\",\n",
      "          \"gravatar_id\": \"\",\n",
      "          \"html_url\": \"https://github.com/rajpaz\",\n",
      "          \"id\": 10697135,\n",
      "          \"login\": \"rajpaz\",\n",
      "          \"node_id\": \"MDQ6VXNlcjEwNjk3MTM1\",\n",
      "          \"organizations_url\": \"https://api.github.com/users/rajpaz/orgs\",\n",
      "          \"received_events_url\": \"https://api.github.com/users/rajpaz/received_events\",\n",
      "          \"repos_url\": \"https://api.github.com/users/rajpaz/repos\",\n",
      "          \"site_admin\": false,\n",
      "          \"starred_url\": \"https://api.github.com/users/rajpaz/starred{/owner}{/repo}\",\n",
      "          \"subscriptions_url\": \"https://api.github.com/users/rajpaz/subscriptions\",\n",
      "          \"type\": \"User\",\n",
      "          \"url\": \"https://api.github.com/users/rajpaz\"\n",
      "        },\n",
      "        \"private\": false,\n",
      "        \"public\": true,\n",
      "        \"pulls_url\": \"https://api.github.com/repos/rajpaz/labs-fa17/pulls{/number}\",\n",
      "        \"pushed_at\": \"2017-11-26T05:20:15Z\",\n",
      "        \"releases_url\": \"https://api.github.com/repos/rajpaz/labs-fa17/releases{/id}\",\n",
      "        \"size\": 34810,\n",
      "        \"ssh_url\": \"git@github.com:rajpaz/labs-fa17.git\",\n",
      "        \"stargazers_count\": 0,\n",
      "        \"stargazers_url\": \"https://api.github.com/repos/rajpaz/labs-fa17/stargazers\",\n",
      "        \"statuses_url\": \"https://api.github.com/repos/rajpaz/labs-fa17/statuses/{sha}\",\n",
      "        \"subscribers_url\": \"https://api.github.com/repos/rajpaz/labs-fa17/subscribers\",\n",
      "        \"subscription_url\": \"https://api.github.com/repos/rajpaz/labs-fa17/subscription\",\n",
      "        \"svn_url\": \"https://github.com/rajpaz/labs-fa17\",\n",
      "        \"tags_url\": \"https://api.github.com/repos/rajpaz/labs-fa17/tags\",\n",
      "        \"teams_url\": \"https://api.github.com/repos/rajpaz/labs-fa17/teams\",\n",
      "        \"trees_url\": \"https://api.github.com/repos/rajpaz/labs-fa17/git/trees{/sha}\",\n",
      "        \"updated_at\": \"2019-01-20T19:05:29Z\",\n",
      "        \"url\": \"https://api.github.com/repos/rajpaz/labs-fa17\",\n",
      "        \"watchers\": 0,\n",
      "        \"watchers_count\": 0\n",
      "      }\n",
      "    },\n",
      "    \"public\": true,\n",
      "    \"repo\": {\n",
      "      \"id\": 100506580,\n",
      "      \"name\": \"cse6040/labs-fa17\",\n",
      "      \"url\": \"https://api.github.com/repos/cse6040/labs-fa17\"\n",
      "    },\n",
      "    \"type\": \"ForkEvent\"\n",
      "  },\n",
      "  {\n",
      "    \"actor\": {\n",
      "      \"avatar_url\": \"https://avatars.githubusercontent.com/u/38435630?\",\n",
      "      \"display_login\": \"jxzhou131\",\n",
      "      \"gravatar_id\": \"\",\n",
      "      \"id\": 38435630,\n",
      "      \"login\": \"jxzhou131\",\n",
      "      \"url\": \"https://api.github.com/users/jxzhou131\"\n",
      "    },\n",
      "    \"created_at\": \"2019-01-20T19:05:29Z\",\n",
      "    \"id\": \"8918892007\",\n",
      "    \"org\": {\n",
      "      \"avatar_url\": \"https://avatars.githubusercontent.com/u/31073927?\",\n",
      "      \"gravatar_id\": \"\",\n",
      "      \"id\": 31073927,\n",
      "      \"login\": \"cse6040\",\n",
      "      \"url\": \"https://api.github.com/orgs/cse6040\"\n",
      "    },\n",
      "    \"payload\": {\n",
      "      \"action\": \"started\"\n",
      "    },\n",
      "    \"public\": true,\n",
      "    \"repo\": {\n",
      "      \"id\": 100506580,\n",
      "      \"name\": \"cse6040/labs-fa17\",\n",
      "      \"url\": \"https://api.github.com/repos/cse6040/labs-fa17\"\n",
      "    },\n",
      "    \"type\": \"WatchEvent\"\n",
      "  }\n",
      "]\n"
     ]
    }
   ],
   "source": [
    "import json\n",
    "print(type(response.json ()))\n",
    "print(json.dumps(response.json()[:3], sort_keys=True, indent=2))"
   ]
  },
  {
   "cell_type": "markdown",
   "metadata": {
    "nbgrader": {
     "grade": false,
     "grade_id": "cell-5be03b16bcb0c40f",
     "locked": true,
     "schema_version": 1,
     "solution": false
    }
   },
   "source": [
    "**Exercise 0.** It should be self-evident that the JSON response above consists of a sequence of records, which we will refer to as _events_. Each event is associated with an _actor_. Write some code to extract a dictionary of all actors, where the key is the actor's login and the value is the actor's URL."
   ]
  },
  {
   "cell_type": "code",
   "execution_count": 4,
   "metadata": {
    "nbgrader": {
     "grade": false,
     "grade_id": "extract_actors",
     "locked": false,
     "schema_version": 1,
     "solution": true
    }
   },
   "outputs": [],
   "source": [
    "def extract_actors (json_github_events):\n",
    "    \"\"\"Given JSON records for events in a GitHub repo,\n",
    "    returns a dictionary of the actors and their URLs.\n",
    "    \"\"\"\n",
    "    actors = {}\n",
    "    for e in json_github_events:\n",
    "        actors[e['actor']['display_login']] = e['actor']['url']\n",
    "    return actors"
   ]
  },
  {
   "cell_type": "code",
   "execution_count": 5,
   "metadata": {
    "nbgrader": {
     "grade": true,
     "grade_id": "extract_actors_test",
     "locked": true,
     "points": 0,
     "schema_version": 1,
     "solution": false
    }
   },
   "outputs": [
    {
     "name": "stdout",
     "output_type": "stream",
     "text": [
      "vorsatti: https://api.github.com/users/vorsatti\n",
      "rajpaz: https://api.github.com/users/rajpaz\n",
      "jxzhou131: https://api.github.com/users/jxzhou131\n",
      "MCBoarder289: https://api.github.com/users/MCBoarder289\n",
      "djbermejo: https://api.github.com/users/djbermejo\n",
      "keithdowd: https://api.github.com/users/keithdowd\n",
      "schr0841: https://api.github.com/users/schr0841\n",
      "sanation: https://api.github.com/users/sanation\n",
      "ddthomas26: https://api.github.com/users/ddthomas26\n"
     ]
    }
   ],
   "source": [
    "actor_urls = extract_actors(response.json ())\n",
    "\n",
    "for actor, url in actor_urls.items ():\n",
    "    print ('{}: {}'.format(actor, url))\n",
    "    assert url == \"https://api.github.com/users/{}\".format(actor)"
   ]
  },
  {
   "cell_type": "markdown",
   "metadata": {
    "nbgrader": {
     "grade": false,
     "grade_id": "cell-23355ce56dd4dcdc",
     "locked": true,
     "schema_version": 1,
     "solution": false
    }
   },
   "source": [
    "**Exercise 1.** Write some code that goes to each actor's URL and determines their name. If an actor URL is invalid, that actor should not appear in the output."
   ]
  },
  {
   "cell_type": "code",
   "execution_count": 6,
   "metadata": {
    "nbgrader": {
     "grade": false,
     "grade_id": "get_names",
     "locked": false,
     "schema_version": 1,
     "solution": true
    }
   },
   "outputs": [],
   "source": [
    "def lookup_names (actor_urls):\n",
    "    \"\"\"Given a dictionary of (actor, url) pairs, looks up the JSON at\n",
    "    the URL and extracts the user's name (if any). Returns a new\n",
    "    dictionary of (actor, name) pairs.\n",
    "    \"\"\"\n",
    "    names = {}\n",
    "    for actor, url in actor_urls.items():\n",
    "        response = requests.get(url)\n",
    "        names[actor] = response.json()['name']\n",
    "    return names"
   ]
  },
  {
   "cell_type": "code",
   "execution_count": 7,
   "metadata": {
    "nbgrader": {
     "grade": true,
     "grade_id": "get_names_test",
     "locked": true,
     "points": 0,
     "schema_version": 1,
     "solution": false
    }
   },
   "outputs": [
    {
     "name": "stdout",
     "output_type": "stream",
     "text": [
      "vorsatti: Valerio Orsatti\n",
      "rajpaz: None\n",
      "jxzhou131: jxzhou\n",
      "MCBoarder289: Michael Chapman\n",
      "djbermejo: None\n",
      "keithdowd: Keith\n",
      "schr0841: Greg Schreiter\n",
      "sanation: None\n",
      "ddthomas26: None\n"
     ]
    }
   ],
   "source": [
    "actor_names = lookup_names (actor_urls)\n",
    "\n",
    "for actor, name in actor_names.items ():\n",
    "    print (\"{}: {}\".format (actor, name))\n",
    "    \n",
    "assert actor_names['vorsatti'] == 'Valerio Orsatti'"
   ]
  },
  {
   "cell_type": "markdown",
   "metadata": {
    "nbgrader": {
     "grade": false,
     "grade_id": "cell-ae7abfbce62b1cd6",
     "locked": true,
     "schema_version": 1,
     "solution": false
    }
   },
   "source": [
    "That's the end of this notebook. Processing JSON is fairly straightforward, because it maps very naturally to nested dictionaries in Python. You might search the web for other sources of JSON data, including [this one](https://www.yelp.com/dataset/challenge), and do your own processing!"
   ]
  }
 ],
 "metadata": {
  "celltoolbar": "Create Assignment",
  "kernelspec": {
   "display_name": "Python 3",
   "language": "python",
   "name": "python3"
  },
  "language_info": {
   "codemirror_mode": {
    "name": "ipython",
    "version": 3
   },
   "file_extension": ".py",
   "mimetype": "text/x-python",
   "name": "python",
   "nbconvert_exporter": "python",
   "pygments_lexer": "ipython3",
   "version": "3.7.2"
  }
 },
 "nbformat": 4,
 "nbformat_minor": 1
}
