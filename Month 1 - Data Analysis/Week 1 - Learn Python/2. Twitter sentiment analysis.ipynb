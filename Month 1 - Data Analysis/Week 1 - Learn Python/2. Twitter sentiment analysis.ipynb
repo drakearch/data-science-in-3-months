{
 "cells": [
  {
   "cell_type": "markdown",
   "metadata": {
    "deletable": true,
    "editable": true
   },
   "source": [
    "# Twitter Sentiment Analysis\n",
    "Code for [Twitter Sentiment Analysis - Learn Python for Data Science #2](https://youtu.be/o_OZdbCzHUA). <br>\n",
    "Import Libraries"
   ]
  },
  {
   "cell_type": "code",
   "execution_count": 1,
   "metadata": {
    "collapsed": false,
    "deletable": true,
    "editable": true
   },
   "outputs": [],
   "source": [
    "from textblob import TextBlob\n",
    "import tweepy\n",
    "import json"
   ]
  },
  {
   "cell_type": "markdown",
   "metadata": {
    "deletable": true,
    "editable": true
   },
   "source": [
    "### Twitter API\n",
    "Load Twitter API credentials from config.json file.\n",
    "Authentication on twitter API."
   ]
  },
  {
   "cell_type": "code",
   "execution_count": 2,
   "metadata": {
    "collapsed": false,
    "deletable": true,
    "editable": true
   },
   "outputs": [],
   "source": [
    "with open('config/config.json') as file:\n",
    "    data = json.load(file)\n",
    "# twitter credentials\n",
    "twee = data[\"twitter\"]\n",
    "\n",
    "auth = tweepy.OAuthHandler(twee[\"consumer_key\"], twee[\"consumer_secret\"])\n",
    "auth.set_access_token(twee[\"access_token\"], twee[\"access_token_secret\"])\n",
    "# twitter API\n",
    "api = tweepy.API(auth)"
   ]
  },
  {
   "cell_type": "markdown",
   "metadata": {
    "deletable": true,
    "editable": true
   },
   "source": [
    "Searching for public tweets related to Jeopardy!."
   ]
  },
  {
   "cell_type": "code",
   "execution_count": 3,
   "metadata": {
    "collapsed": false,
    "deletable": true,
    "editable": true
   },
   "outputs": [],
   "source": [
    "public_tweets = api.search('Jeopardy')"
   ]
  },
  {
   "cell_type": "markdown",
   "metadata": {
    "deletable": true,
    "editable": true
   },
   "source": [
    "### Sentiment Analysis\n",
    "Sentiment analysis of public tweets related to Jeopardy! using the TextBlob model."
   ]
  },
  {
   "cell_type": "code",
   "execution_count": 4,
   "metadata": {
    "collapsed": false,
    "deletable": true,
    "editable": true
   },
   "outputs": [
    {
     "name": "stdout",
     "output_type": "stream",
     "text": [
      "@PPact Please do your part and support Planned Parenthood of America!!! Not just our rights are in jeopardy; but th… https://t.co/XCBKKHzCfH\n",
      "Sentiment(polarity=0.0, subjectivity=0.0) \n",
      "\n",
      "RT @LouiseMensch: This story by the New York Times said @JaredKushner was GRANTED a clearance that let him read the Presidential Daily Brie…\n",
      "Sentiment(polarity=0.06818181818181818, subjectivity=0.22727272727272727) \n",
      "\n",
      "RT @diymidwest: ATTN:  DIY-INDEPENDENT MUSIC SCENE\n",
      "\n",
      "Chicago's entire independent music community is undeniably in jeopardy. https://t.co/IU…\n",
      "Sentiment(polarity=0.0, subjectivity=0.375) \n",
      "\n",
      "RT @KatsonHaggai: @KarenCivil Shut tf up . Apologize and stop playing the gender card . His life and career are always put in jeopardy when…\n",
      "Sentiment(polarity=0.0, subjectivity=0.0) \n",
      "\n",
      "RT @diymidwest: ATTN:  DIY-INDEPENDENT MUSIC SCENE\n",
      "\n",
      "Chicago's entire independent music community is undeniably in jeopardy. https://t.co/IU…\n",
      "Sentiment(polarity=0.0, subjectivity=0.375) \n",
      "\n",
      "RT @KenJennings: @NickL_BG @Jeopardy I would just destroy that kid at Jeopardy. could he even see over the lectern.\n",
      "Sentiment(polarity=-0.2, subjectivity=0.0) \n",
      "\n",
      "Jeopardy had an Edgar Allan Poe category tonight and I’ve been waiting for this moment for years bc I just destroye… https://t.co/c5wP30kUui\n",
      "Sentiment(polarity=0.0, subjectivity=0.0) \n",
      "\n",
      "RT @KenJennings: @NickL_BG @Jeopardy I would just destroy that kid at Jeopardy. could he even see over the lectern.\n",
      "Sentiment(polarity=-0.2, subjectivity=0.0) \n",
      "\n",
      "RT @diymidwest: ATTN:  DIY-INDEPENDENT MUSIC SCENE\n",
      "\n",
      "Chicago's entire independent music community is undeniably in jeopardy. https://t.co/IU…\n",
      "Sentiment(polarity=0.0, subjectivity=0.375) \n",
      "\n",
      "RT @polowhite: @TimBuntley @Jeopardy That’s what I thought also!\n",
      "Sentiment(polarity=0.0, subjectivity=0.0) \n",
      "\n",
      "You'll be glad to know that all time on Twitter isn't making me better at Jeopardy\n",
      "Sentiment(polarity=0.5, subjectivity=0.75) \n",
      "\n",
      "@Pullthepocket But what if Jeopardy asks who was Justify’s jockey? I’m guessing that’s an answer that won’t find the question.\n",
      "Sentiment(polarity=0.0, subjectivity=0.0) \n",
      "\n",
      "RT @KenJennings: @NickL_BG @Jeopardy I would just destroy that kid at Jeopardy. could he even see over the lectern.\n",
      "Sentiment(polarity=-0.2, subjectivity=0.0) \n",
      "\n",
      "The government shutdown is stalling investigations into sex crimes against minors, FBI agents say https://t.co/K3F1QDMr82\n",
      "Sentiment(polarity=0.0, subjectivity=0.0) \n",
      "\n",
      "RT @paulsperry_: Following folks have vested interest in keeping \"Russia collusion\" smoke billowing:\n",
      "\n",
      "Comey McCabe Strzok Page Baker Ohr (a…\n",
      "Sentiment(polarity=0.0, subjectivity=0.1) \n",
      "\n"
     ]
    }
   ],
   "source": [
    "for tweet in public_tweets:\n",
    "    print(tweet.text)\n",
    "    analysis = TextBlob(tweet.text)\n",
    "    print(analysis.sentiment, '\\n')"
   ]
  }
 ],
 "metadata": {
  "kernelspec": {
   "display_name": "Python 3",
   "language": "python",
   "name": "python3"
  },
  "language_info": {
   "codemirror_mode": {
    "name": "ipython",
    "version": 3
   },
   "file_extension": ".py",
   "mimetype": "text/x-python",
   "name": "python",
   "nbconvert_exporter": "python",
   "pygments_lexer": "ipython3",
   "version": "3.5.2"
  }
 },
 "nbformat": 4,
 "nbformat_minor": 2
}
