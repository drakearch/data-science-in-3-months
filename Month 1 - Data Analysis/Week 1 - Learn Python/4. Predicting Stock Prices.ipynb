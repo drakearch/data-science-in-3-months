{
 "cells": [
  {
   "cell_type": "markdown",
   "metadata": {
    "deletable": true,
    "editable": true
   },
   "source": [
    "# Predicting Stock Prices\n",
    "Code for [Predicting Stock Prices - Learn Python for Data Science #4](https://youtu.be/SSu00IRRraY) <br>\n",
    "Importing libraries."
   ]
  },
  {
   "cell_type": "code",
   "execution_count": 1,
   "metadata": {
    "collapsed": true,
    "deletable": true,
    "editable": true
   },
   "outputs": [],
   "source": [
    "import numpy as np\n",
    "import matplotlib.pyplot as plt\n",
    "from sklearn.svm import SVR\n",
    "import csv"
   ]
  },
  {
   "cell_type": "markdown",
   "metadata": {
    "deletable": true,
    "editable": true
   },
   "source": [
    "### Parse data function\n",
    "Getting data from csv file. <br>\n",
    "table: [date, close, volume, open , high, low]"
   ]
  },
  {
   "cell_type": "code",
   "execution_count": 2,
   "metadata": {
    "collapsed": false
   },
   "outputs": [],
   "source": [
    "def parse_data(filename):\n",
    "    dates = []\n",
    "    prices = []\n",
    "    with open(filename, 'r') as file:\n",
    "        # csv file reader, avoid first and second line\n",
    "        csvReader = csv.reader(file)\n",
    "        next(csvReader)\n",
    "        next(csvReader)\n",
    "        \n",
    "        for row in csvReader:\n",
    "            # date: [yyyy/mm/dd], we need day\n",
    "            dates.append(int(row[0].split('/')[2]))\n",
    "            # close price\n",
    "            prices.append(float(row[1]))\n",
    "            \n",
    "    # reshape input and return\n",
    "    dates = np.reshape(dates, (len(dates), 1))\n",
    "    return dates, prices"
   ]
  },
  {
   "cell_type": "markdown",
   "metadata": {},
   "source": [
    "### Load Data\n",
    "Load data from csv file using parse function. <br>\n",
    "Input: dates <br>\n",
    "Output: prices"
   ]
  },
  {
   "cell_type": "code",
   "execution_count": 3,
   "metadata": {
    "collapsed": false,
    "deletable": true,
    "editable": true
   },
   "outputs": [
    {
     "name": "stdout",
     "output_type": "stream",
     "text": [
      "Close price at day [24]: 152.7\n",
      "Close price at day [23]: 153.92\n",
      "Close price at day [22]: 153.3\n",
      "Close price at day [18]: 156.82\n",
      "Close price at day [17]: 155.86\n",
      "Close price at day [16]: 154.94\n",
      "Close price at day [15]: 153.07\n",
      "Close price at day [14]: 150.0\n",
      "Close price at day [11]: 152.29\n",
      "Close price at day [10]: 153.8\n",
      "Close price at day [9]: 153.31\n",
      "Close price at day [8]: 150.75\n",
      "Close price at day [7]: 147.93\n",
      "Close price at day [4]: 148.26\n",
      "Close price at day [3]: 142.19\n",
      "Close price at day [2]: 157.92\n"
     ]
    }
   ],
   "source": [
    "dates, prices = parse_data('data/appleHistoricalQuotes.csv')\n",
    "\n",
    "for date, price in zip(dates, prices):\n",
    "    print('Close price at day {}: {}'.format(date, price))"
   ]
  },
  {
   "cell_type": "markdown",
   "metadata": {
    "deletable": true,
    "editable": true
   },
   "source": [
    "### Models\n",
    "Initializing SVR classifier with three different kernels."
   ]
  },
  {
   "cell_type": "code",
   "execution_count": 4,
   "metadata": {
    "collapsed": true
   },
   "outputs": [],
   "source": [
    "names = ['Linear model', 'Polynomial model', 'RBF model']\n",
    "\n",
    "models = [\n",
    "    SVR(kernel='linear', C=1e3),\n",
    "    SVR(kernel='poly', C=1e3, degree=2),\n",
    "    SVR(kernel='rbf', C=1e3, gamma=0.1)]"
   ]
  },
  {
   "cell_type": "markdown",
   "metadata": {},
   "source": [
    "### Training\n",
    "Training all classifiers with same data for predicting stock prices."
   ]
  },
  {
   "cell_type": "code",
   "execution_count": 5,
   "metadata": {
    "collapsed": false,
    "deletable": true,
    "editable": true
   },
   "outputs": [
    {
     "name": "stdout",
     "output_type": "stream",
     "text": [
      "Training Linear model...\n",
      "Training Polynomial model...\n",
      "Training RBF model...\n"
     ]
    }
   ],
   "source": [
    "def train_models(dates, prices, models, names):\n",
    "    for model, name in zip(models, names):\n",
    "        print('Training {}...'.format(name))\n",
    "        # training current classifier\n",
    "        model.fit(dates, prices)\n",
    "    return\n",
    "\n",
    "# training all classifiers\n",
    "train_models(dates, prices, models, names)"
   ]
  },
  {
   "cell_type": "markdown",
   "metadata": {
    "deletable": true,
    "editable": true
   },
   "source": [
    "### Plot Predictions\n",
    "Plotting all predictions for each date, comparing the classifiers."
   ]
  },
  {
   "cell_type": "code",
   "execution_count": 6,
   "metadata": {
    "collapsed": false,
    "deletable": true,
    "editable": true
   },
   "outputs": [
    {
     "data": {
      "image/png": "[encoded data removed]",
      "text/plain": [
       "<matplotlib.figure.Figure at 0x14137fed630>"
      ]
     },
     "metadata": {},
     "output_type": "display_data"
    }
   ],
   "source": [
    "def plot_predictions(dates, prices, models, names, colors):\n",
    "    # plotting scatter points for ground truth\n",
    "    plt.scatter(dates, prices, color='black', label='Data')\n",
    "    \n",
    "    # plotting for each model\n",
    "    for model, name, color in zip(models, names, colors):\n",
    "        plt.plot(dates, model.predict(dates), color=color, label=name)\n",
    "        \n",
    "    plt.xlabel('Date')\n",
    "    plt.ylabel('Price')\n",
    "    plt.title('Support Vector Regression')\n",
    "    plt.legend(loc='lower right')\n",
    "    plt.show()\n",
    "    return\n",
    "\n",
    "# defining colors for each classifier\n",
    "colors = ['red', 'green', 'blue']\n",
    "\n",
    "# plot predictions\n",
    "plot_predictions(dates, prices, models, names, colors)"
   ]
  }
 ],
 "metadata": {
  "kernelspec": {
   "display_name": "Python 3",
   "language": "python",
   "name": "python3"
  },
  "language_info": {
   "codemirror_mode": {
    "name": "ipython",
    "version": 3
   },
   "file_extension": ".py",
   "mimetype": "text/x-python",
   "name": "python",
   "nbconvert_exporter": "python",
   "pygments_lexer": "ipython3",
   "version": "3.5.2"
  }
 },
 "nbformat": 4,
 "nbformat_minor": 2
}
