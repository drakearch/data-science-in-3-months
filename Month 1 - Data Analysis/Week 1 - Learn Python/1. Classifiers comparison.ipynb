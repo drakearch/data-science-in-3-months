{
 "cells": [
  {
   "cell_type": "markdown",
   "metadata": {
    "deletable": true,
    "editable": true
   },
   "source": [
    "# Scikit Learn Classifiers comparison"
   ]
  },
  {
   "cell_type": "markdown",
   "metadata": {},
   "source": [
    "Comparison of classifiers, a challenge posed by Siraj Raval in his video [Introduction - Learn Python for Data Science #1](https://youtu.be/T5pRlIbr6gg)."
   ]
  },
  {
   "cell_type": "code",
   "execution_count": 2,
   "metadata": {
    "collapsed": true,
    "deletable": true,
    "editable": true
   },
   "outputs": [],
   "source": [
    "from sklearn.metrics import accuracy_score\n",
    "from sklearn.neural_network import MLPClassifier\n",
    "from sklearn.neighbors import KNeighborsClassifier\n",
    "from sklearn.svm import SVC\n",
    "from sklearn.gaussian_process import GaussianProcessClassifier\n",
    "from sklearn.gaussian_process.kernels import RBF\n",
    "from sklearn.tree import DecisionTreeClassifier\n",
    "from sklearn.ensemble import RandomForestClassifier, AdaBoostClassifier\n",
    "from sklearn.naive_bayes import GaussianNB\n",
    "from sklearn.discriminant_analysis import QuadraticDiscriminantAnalysis\n",
    "import numpy as np"
   ]
  },
  {
   "cell_type": "markdown",
   "metadata": {
    "deletable": true,
    "editable": true
   },
   "source": [
    "### Dataset\n",
    "Initializing toy dataset for classify, input attributes are: height, weight and shoe size. In order to determinate the gender (male or female)."
   ]
  },
  {
   "cell_type": "code",
   "execution_count": 3,
   "metadata": {
    "collapsed": true,
    "deletable": true,
    "editable": true
   },
   "outputs": [],
   "source": [
    "# [height, weight, shoe size]\n",
    "X = [[181, 80, 44], [177, 70, 43], [160, 60, 38], [154, 54, 37], [166, 65, 40],\n",
    "     [190, 90, 47], [175, 64, 39], [177, 70, 40], [159, 55, 37], [171, 75, 42], \n",
    "     [181, 85, 43], [184, 82, 43], [176, 75, 42], [170, 65, 39], [183, 84, 44]]\n",
    "\n",
    "Y = ['male', 'male', 'female', 'female', 'male', 'male', 'female', 'female',\n",
    "     'female', 'male', 'male', 'female', 'male', 'female', 'male']"
   ]
  },
  {
   "cell_type": "markdown",
   "metadata": {
    "deletable": true,
    "editable": true
   },
   "source": [
    "### Classifiers\n",
    "We storage the names of classifiers in names list. All classifiers are initialized and storaged in classifiers list."
   ]
  },
  {
   "cell_type": "code",
   "execution_count": 4,
   "metadata": {
    "collapsed": false,
    "deletable": true,
    "editable": true
   },
   "outputs": [],
   "source": [
    "names = [\"Nearest Neighbors\", \"Linear SVM\", \"RBF SVM\", \"Gaussian Process\",\n",
    "         \"Decision Tree\", \"Random Forest\", \"Neural Net\", \"AdaBoost\",\n",
    "         \"Naive Bayes\", \"Quadratic Discriminant Analysis\"]\n",
    "\n",
    "classifiers = [\n",
    "    KNeighborsClassifier(3),\n",
    "    SVC(kernel=\"linear\", C=0.0225),\n",
    "    SVC(gamma=2, C=1),\n",
    "    GaussianProcessClassifier(1.0 * RBF(1.0)),\n",
    "    DecisionTreeClassifier(max_depth=5),\n",
    "    RandomForestClassifier(max_depth=5, n_estimators=10, max_features=1),\n",
    "    MLPClassifier(alpha=1),\n",
    "    AdaBoostClassifier(),\n",
    "    GaussianNB(),\n",
    "    QuadraticDiscriminantAnalysis()]"
   ]
  },
  {
   "cell_type": "markdown",
   "metadata": {
    "deletable": true,
    "editable": true
   },
   "source": [
    "### Training and Testing\n",
    "All Classifiers are trained with fit method. Then, we testing each classifier using the same data."
   ]
  },
  {
   "cell_type": "code",
   "execution_count": 5,
   "metadata": {
    "collapsed": false,
    "deletable": true,
    "editable": true,
    "scrolled": true
   },
   "outputs": [
    {
     "name": "stdout",
     "output_type": "stream",
     "text": [
      "['male'] Accuracy for Nearest Neighbors: 80.0\n",
      "['male'] Accuracy for Linear SVM: 86.66666666666667\n",
      "['male'] Accuracy for RBF SVM: 100.0\n",
      "['male'] Accuracy for Gaussian Process: 100.0\n",
      "['male'] Accuracy for Decision Tree: 100.0\n",
      "['male'] Accuracy for Random Forest: 100.0\n",
      "['male'] Accuracy for Neural Net: 53.333333333333336\n",
      "['male'] Accuracy for AdaBoost: 100.0\n",
      "['male'] Accuracy for Naive Bayes: 86.66666666666667\n",
      "['male'] Accuracy for Quadratic Discriminant Analysis: 100.0\n"
     ]
    }
   ],
   "source": [
    "accuracies = []\n",
    "\n",
    "for name, clf in zip(names, classifiers):\n",
    "    # Training\n",
    "    clf.fit(X, Y)\n",
    "    # Testing\n",
    "    pred = clf.predict(X)\n",
    "    accuracy = accuracy_score(Y, pred) * 100\n",
    "    accuracies.append(accuracy)\n",
    "    # [example] Accuracy for [model]: [Accuracy]\n",
    "    print('{} Accuracy for {}: {}'\n",
    "          .format(clf.predict([[176, 74, 42]]), name, accuracy))"
   ]
  },
  {
   "cell_type": "markdown",
   "metadata": {
    "deletable": true,
    "editable": true
   },
   "source": [
    "### Best Classifier\n",
    "The best classifier for the given data."
   ]
  },
  {
   "cell_type": "code",
   "execution_count": 6,
   "metadata": {
    "collapsed": false,
    "deletable": true,
    "editable": true
   },
   "outputs": [
    {
     "name": "stdout",
     "output_type": "stream",
     "text": [
      "The best gender classifier is RBF SVM\n"
     ]
    }
   ],
   "source": [
    "id = np.argmax(accuracies)\n",
    "print('The best gender classifier is {}'.format(names[id]))"
   ]
  }
 ],
 "metadata": {
  "kernelspec": {
   "display_name": "Python 3",
   "language": "python",
   "name": "python3"
  },
  "language_info": {
   "codemirror_mode": {
    "name": "ipython",
    "version": 3
   },
   "file_extension": ".py",
   "mimetype": "text/x-python",
   "name": "python",
   "nbconvert_exporter": "python",
   "pygments_lexer": "ipython3",
   "version": "3.5.2"
  }
 },
 "nbformat": 4,
 "nbformat_minor": 2
}
