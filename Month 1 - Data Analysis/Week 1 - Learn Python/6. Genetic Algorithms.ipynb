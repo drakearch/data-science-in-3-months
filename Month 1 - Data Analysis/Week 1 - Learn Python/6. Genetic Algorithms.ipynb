{
 "cells": [
  {
   "cell_type": "markdown",
   "metadata": {},
   "source": [
    "# Genetic Algorithms\n",
    "Code for [Genetic Algorithms - Learn Python for Data Science #6](https://youtu.be/dSofAXnnFrY) <br>\n",
    "Importing libraries."
   ]
  },
  {
   "cell_type": "code",
   "execution_count": 1,
   "metadata": {},
   "outputs": [],
   "source": [
    "from tpot import TPOTClassifier\n",
    "from sklearn.model_selection import train_test_split\n",
    "import pandas as pd \n",
    "import numpy as np"
   ]
  },
  {
   "cell_type": "markdown",
   "metadata": {},
   "source": [
    "### Data\n",
    "The data are MC generated (see below) to simulate registration of high energy gamma particles in a ground-based atmospheric Cherenkov gamma telescope using the imaging technique. Cherenkov gamma telescope observes high energy gamma rays, taking advantage of the radiation emitted by charged particles produced inside the electromagnetic showers initiated by the gammas, and developing in the atmosphere. This Cherenkov radiation (of visible to UV wavelengths) leaks through the atmosphere and gets recorded in the detector, allowing reconstruction of the shower parameters. The available information consists of pulses left by the incoming Cherenkov photons on the photomultiplier tubes, arranged in a plane, the camera. Depending on the energy of the primary gamma, a total of few hundreds to some 10000 Cherenkov photons get collected, in patterns (called the shower image), allowing to discriminate statistically those caused by primary gammas (signal) from the images of hadronic showers initiated by cosmic rays in the upper atmosphere (background). <br>\n",
    "\n",
    "Typically, the image of a shower after some pre-processing is an elongated cluster. Its long axis is oriented towards the camera center if the shower axis is parallel to the telescope's optical axis, i.e. if the telescope axis is directed towards a point source. A principal component analysis is performed in the camera plane, which results in a correlation axis and defines an ellipse. If the depositions were distributed as a bivariate Gaussian, this would be an equidensity ellipse. The characteristic parameters of this ellipse (often called Hillas parameters) are among the image parameters that can be used for discrimination. The energy depositions are typically asymmetric along the major axis, and this asymmetry can also be used in discrimination. There are, in addition, further discriminating characteristics, like the extent of the cluster in the image plane, or the total sum of depositions.<br>\n",
    "\n",
    "Attribute Information:\n",
    "\n",
    "1. fLength: continuous # major axis of ellipse [mm]\n",
    "2. fWidth: continuous # minor axis of ellipse [mm]\n",
    "3. fSize: continuous # 10-log of sum of content of all pixels [in #phot]\n",
    "4. fConc: continuous # ratio of sum of two highest pixels over fSize [ratio]\n",
    "5. fConc1: continuous # ratio of highest pixel over fSize [ratio]\n",
    "6. fAsym: continuous # distance from highest pixel to center, projected onto major axis [mm]\n",
    "7. fM3Long: continuous # 3rd root of third moment along major axis [mm]\n",
    "8. fM3Trans: continuous # 3rd root of third moment along minor axis [mm]\n",
    "9. fAlpha: continuous # angle of major axis with vector to origin [deg]\n",
    "10. fDist: continuous # distance from origin to center of ellipse [mm]\n",
    "11. class: g,h # gamma (signal), hadron (background)\n",
    "<br><br>\n",
    "g = gamma (signal): 12332 <br>\n",
    "h = hadron (background): 6688\n",
    "\n",
    "For technical reasons, the number of h events is underestimated. In the real data, the h class represents the majority of the events.<br>\n",
    "\n",
    "The simple classification accuracy is not meaningful for this data, since classifying a background event as signal is worse than classifying a signal event as background. For comparison of different classifiers an ROC curve has to be used. The relevant points on this curve are those, where the probability of accepting a background event as signal is below one of the following thresholds: 0.01, 0.02, 0.05, 0.1, 0.2 depending on the required quality of the sample of the accepted events for different experiments.\n",
    "\n"
   ]
  },
  {
   "cell_type": "code",
   "execution_count": 2,
   "metadata": {},
   "outputs": [
    {
     "data": {
      "text/html": [
       "<div>\n",
       "<style scoped>\n",
       "    .dataframe tbody tr th:only-of-type {\n",
       "        vertical-align: middle;\n",
       "    }\n",
       "\n",
       "    .dataframe tbody tr th {\n",
       "        vertical-align: top;\n",
       "    }\n",
       "\n",
       "    .dataframe thead th {\n",
       "        text-align: right;\n",
       "    }\n",
       "</style>\n",
       "<table border=\"1\" class=\"dataframe\">\n",
       "  <thead>\n",
       "    <tr style=\"text-align: right;\">\n",
       "      <th></th>\n",
       "      <th>Flength</th>\n",
       "      <th>Fwidth</th>\n",
       "      <th>Fsize</th>\n",
       "      <th>Fconc</th>\n",
       "      <th>Fconc1</th>\n",
       "      <th>Fasym</th>\n",
       "      <th>Fm3long</th>\n",
       "      <th>Fm3trans</th>\n",
       "      <th>Falpha</th>\n",
       "      <th>Fdist</th>\n",
       "      <th>Class</th>\n",
       "    </tr>\n",
       "  </thead>\n",
       "  <tbody>\n",
       "    <tr>\n",
       "      <th>0</th>\n",
       "      <td>63.8128</td>\n",
       "      <td>26.2233</td>\n",
       "      <td>3.5143</td>\n",
       "      <td>0.1958</td>\n",
       "      <td>0.1088</td>\n",
       "      <td>44.5465</td>\n",
       "      <td>46.5522</td>\n",
       "      <td>18.3607</td>\n",
       "      <td>1.9190</td>\n",
       "      <td>284.6520</td>\n",
       "      <td>0</td>\n",
       "    </tr>\n",
       "    <tr>\n",
       "      <th>1</th>\n",
       "      <td>33.9347</td>\n",
       "      <td>10.8862</td>\n",
       "      <td>2.5328</td>\n",
       "      <td>0.4047</td>\n",
       "      <td>0.2155</td>\n",
       "      <td>-25.0369</td>\n",
       "      <td>-23.1659</td>\n",
       "      <td>3.4920</td>\n",
       "      <td>0.3340</td>\n",
       "      <td>132.9070</td>\n",
       "      <td>0</td>\n",
       "    </tr>\n",
       "    <tr>\n",
       "      <th>2</th>\n",
       "      <td>23.4914</td>\n",
       "      <td>10.2250</td>\n",
       "      <td>2.3181</td>\n",
       "      <td>0.5433</td>\n",
       "      <td>0.3005</td>\n",
       "      <td>32.2449</td>\n",
       "      <td>-16.3290</td>\n",
       "      <td>-9.4179</td>\n",
       "      <td>60.5491</td>\n",
       "      <td>26.0889</td>\n",
       "      <td>0</td>\n",
       "    </tr>\n",
       "    <tr>\n",
       "      <th>3</th>\n",
       "      <td>126.6650</td>\n",
       "      <td>50.7670</td>\n",
       "      <td>3.4115</td>\n",
       "      <td>0.1400</td>\n",
       "      <td>0.0766</td>\n",
       "      <td>-74.1327</td>\n",
       "      <td>-59.6968</td>\n",
       "      <td>-31.9915</td>\n",
       "      <td>14.2270</td>\n",
       "      <td>296.4660</td>\n",
       "      <td>0</td>\n",
       "    </tr>\n",
       "    <tr>\n",
       "      <th>4</th>\n",
       "      <td>25.6568</td>\n",
       "      <td>11.7431</td>\n",
       "      <td>2.5944</td>\n",
       "      <td>0.4249</td>\n",
       "      <td>0.2150</td>\n",
       "      <td>34.2181</td>\n",
       "      <td>17.2466</td>\n",
       "      <td>-5.1048</td>\n",
       "      <td>26.3933</td>\n",
       "      <td>219.5660</td>\n",
       "      <td>0</td>\n",
       "    </tr>\n",
       "  </tbody>\n",
       "</table>\n",
       "</div>"
      ],
      "text/plain": [
       "    Flength   Fwidth   Fsize   Fconc  Fconc1    Fasym  Fm3long  Fm3trans  \\\n",
       "0   63.8128  26.2233  3.5143  0.1958  0.1088  44.5465  46.5522   18.3607   \n",
       "1   33.9347  10.8862  2.5328  0.4047  0.2155 -25.0369 -23.1659    3.4920   \n",
       "2   23.4914  10.2250  2.3181  0.5433  0.3005  32.2449 -16.3290   -9.4179   \n",
       "3  126.6650  50.7670  3.4115  0.1400  0.0766 -74.1327 -59.6968  -31.9915   \n",
       "4   25.6568  11.7431  2.5944  0.4249  0.2150  34.2181  17.2466   -5.1048   \n",
       "\n",
       "    Falpha     Fdist  Class  \n",
       "0   1.9190  284.6520      0  \n",
       "1   0.3340  132.9070      0  \n",
       "2  60.5491   26.0889      0  \n",
       "3  14.2270  296.4660      0  \n",
       "4  26.3933  219.5660      0  "
      ]
     },
     "execution_count": 2,
     "metadata": {},
     "output_type": "execute_result"
    }
   ],
   "source": [
    "# load the data\n",
    "telescope = pd.read_csv('data/MAGIC Gamma Telescope Data.csv')\n",
    "\n",
    "# clean the data\n",
    "telescope_shuffle = telescope.iloc[np.random.permutation(len(telescope))]\n",
    "tele = telescope_shuffle.reset_index(drop=True)\n",
    "\n",
    "# store 2 classes\n",
    "tele['Class'] = tele['Class'].map({'g':0, 'h':1})\n",
    "tele_class = tele['Class'].values\n",
    "\n",
    "# first 5 elements\n",
    "tele.head(5)"
   ]
  },
  {
   "cell_type": "markdown",
   "metadata": {},
   "source": [
    "Preparing data, spliting into training, testing and validation sets."
   ]
  },
  {
   "cell_type": "code",
   "execution_count": 3,
   "metadata": {},
   "outputs": [],
   "source": [
    "training_indices, testing_indices = train_test_split(tele.index, \n",
    "                                                     stratify=tele_class, train_size=0.75, test_size=0.25)\n",
    "# testing and validation sets are the same\n",
    "validation_indices = testing_indices"
   ]
  },
  {
   "cell_type": "markdown",
   "metadata": {},
   "source": [
    "### Genetic programming\n",
    "Let Genetic Programming find best ML model and hyperparameters."
   ]
  },
  {
   "cell_type": "code",
   "execution_count": 4,
   "metadata": {},
   "outputs": [
    {
     "name": "stdout",
     "output_type": "stream",
     "text": [
      "Warning: xgboost.XGBClassifier is not available and will not be used by TPOT.\n"
     ]
    },
    {
     "data": {
      "application/vnd.jupyter.widget-view+json": {
       "model_id": "",
       "version_major": 2,
       "version_minor": 0
      },
      "text/plain": [
       "HBox(children=(IntProgress(value=0, description='Optimization Progress', max=600, style=ProgressStyle(descript…"
      ]
     },
     "metadata": {},
     "output_type": "display_data"
    },
    {
     "name": "stdout",
     "output_type": "stream",
     "text": [
      "Generation 1 - Current best internal CV score: 0.8807571409227511\n",
      "Generation 2 - Current best internal CV score: 0.882158829821941\n",
      "Generation 3 - Current best internal CV score: 0.882158829821941\n",
      "Generation 4 - Current best internal CV score: 0.882158829821941\n",
      "Generation 5 - Current best internal CV score: 0.8833514917918197\n",
      "\n",
      "Best pipeline: GradientBoostingClassifier(PolynomialFeatures(MinMaxScaler(input_matrix), degree=2, include_bias=False, interaction_only=False), learning_rate=0.1, max_depth=5, max_features=0.7000000000000001, min_samples_leaf=15, min_samples_split=18, n_estimators=100, subsample=0.55)\n"
     ]
    },
    {
     "data": {
      "text/plain": [
       "TPOTClassifier(config_dict=None, crossover_rate=0.1, cv=5,\n",
       "        disable_update_check=False, early_stop=None, generations=5,\n",
       "        max_eval_time_mins=5, max_time_mins=None, memory=None,\n",
       "        mutation_rate=0.9, n_jobs=1, offspring_size=None,\n",
       "        periodic_checkpoint_folder=None, population_size=100,\n",
       "        random_state=None, scoring=None, subsample=1.0, use_dask=False,\n",
       "        verbosity=2, warm_start=False)"
      ]
     },
     "execution_count": 4,
     "metadata": {},
     "output_type": "execute_result"
    }
   ],
   "source": [
    "tpot = TPOTClassifier(generations=5, verbosity=2)\n",
    "tpot.fit(tele.drop('Class', axis=1).loc[training_indices].values, \n",
    "         tele.loc[training_indices, 'Class'].values)"
   ]
  },
  {
   "cell_type": "markdown",
   "metadata": {},
   "source": [
    "### Accuracy\n",
    "Scoring the accuracy."
   ]
  },
  {
   "cell_type": "code",
   "execution_count": 6,
   "metadata": {},
   "outputs": [
    {
     "data": {
      "text/plain": [
       "0.8767613038906414"
      ]
     },
     "execution_count": 6,
     "metadata": {},
     "output_type": "execute_result"
    }
   ],
   "source": [
    "tpot.score(tele.drop('Class', axis=1).loc[validation_indices].values,\n",
    "           tele.loc[validation_indices, 'Class'].values)"
   ]
  },
  {
   "cell_type": "markdown",
   "metadata": {},
   "source": [
    "As can be seen, the best accuracy is 87.68%. <br>\n",
    "Finally, we export the generated code in pipeline.py"
   ]
  },
  {
   "cell_type": "code",
   "execution_count": 7,
   "metadata": {},
   "outputs": [
    {
     "data": {
      "text/plain": [
       "True"
      ]
     },
     "execution_count": 7,
     "metadata": {},
     "output_type": "execute_result"
    }
   ],
   "source": [
    "tpot.export('data/pipeline.py')"
   ]
  }
 ],
 "metadata": {
  "kernelspec": {
   "display_name": "Python 3",
   "language": "python",
   "name": "python3"
  },
  "language_info": {
   "codemirror_mode": {
    "name": "ipython",
    "version": 3
   },
   "file_extension": ".py",
   "mimetype": "text/x-python",
   "name": "python",
   "nbconvert_exporter": "python",
   "pygments_lexer": "ipython3",
   "version": "3.7.2"
  }
 },
 "nbformat": 4,
 "nbformat_minor": 2
}
