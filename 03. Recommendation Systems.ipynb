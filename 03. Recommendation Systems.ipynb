{
 "cells": [
  {
   "cell_type": "markdown",
   "metadata": {
    "deletable": true,
    "editable": true
   },
   "source": [
    "# Recommendation Systems\n",
    "Import libraries"
   ]
  },
  {
   "cell_type": "code",
   "execution_count": 1,
   "metadata": {
    "collapsed": false,
    "deletable": true,
    "editable": true
   },
   "outputs": [
    {
     "name": "stderr",
     "output_type": "stream",
     "text": [
      "c:\\program files\\python35\\lib\\site-packages\\lightfm\\_lightfm_fast.py:9: UserWarning: LightFM was compiled without OpenMP support. Only a single thread will be used.\n",
      "  warnings.warn('LightFM was compiled without OpenMP support. '\n"
     ]
    }
   ],
   "source": [
    "import numpy as np\n",
    "from lightfm.datasets import fetch_movielens\n",
    "from lightfm import LightFM"
   ]
  },
  {
   "cell_type": "markdown",
   "metadata": {
    "deletable": true,
    "editable": true
   },
   "source": [
    "## Movie dataset\n",
    "![The MovieLens dataset](https://image.slidesharecdn.com/harper-movielens-history-v2-shared-160309161738/95/the-movielens-datasets-history-and-context-3-638.jpg?cb=1457540394)\n",
    "Fetch data and format it.\n",
    "Print training and testing data."
   ]
  },
  {
   "cell_type": "code",
   "execution_count": 2,
   "metadata": {
    "collapsed": false,
    "deletable": true,
    "editable": true
   },
   "outputs": [
    {
     "name": "stdout",
     "output_type": "stream",
     "text": [
      "<943x1682 sparse matrix of type '<class 'numpy.int32'>'\n",
      "\twith 49906 stored elements in COOrdinate format>\n",
      "<943x1682 sparse matrix of type '<class 'numpy.int32'>'\n",
      "\twith 5469 stored elements in COOrdinate format>\n"
     ]
    }
   ],
   "source": [
    "data = fetch_movielens(min_rating=4.0)\n",
    "\n",
    "print(repr(data['train']))\n",
    "print(repr(data['test']))"
   ]
  },
  {
   "cell_type": "markdown",
   "metadata": {
    "deletable": true,
    "editable": true
   },
   "source": [
    "Create the model and training...\n",
    "warp: Weighted Approximate-Rank pairwise"
   ]
  },
  {
   "cell_type": "code",
   "execution_count": 3,
   "metadata": {
    "collapsed": false,
    "deletable": true,
    "editable": true
   },
   "outputs": [
    {
     "data": {
      "text/plain": [
       "<lightfm.lightfm.LightFM at 0x1f4d546e588>"
      ]
     },
     "execution_count": 3,
     "metadata": {},
     "output_type": "execute_result"
    }
   ],
   "source": [
    "model = LightFM(loss='warp')\n",
    "model.fit(data['train'], epochs=30, num_threads=2)"
   ]
  },
  {
   "cell_type": "markdown",
   "metadata": {
    "collapsed": true,
    "deletable": true,
    "editable": true
   },
   "source": [
    "Sample recommendation function."
   ]
  },
  {
   "cell_type": "code",
   "execution_count": 4,
   "metadata": {
    "collapsed": false,
    "deletable": true,
    "editable": true
   },
   "outputs": [
    {
     "name": "stdout",
     "output_type": "stream",
     "text": [
      "User 5\n",
      "    Known positives:\n",
      "        Toy Story (1995)\n",
      "        Babe (1995)\n",
      "        Dead Man Walking (1995)\n",
      "    Recommended:\n",
      "        Rear Window (1954)\n",
      "        North by Northwest (1959)\n",
      "        Vertigo (1958)\n",
      "User 50\n",
      "    Known positives:\n",
      "        Star Wars (1977)\n",
      "        Mr. Smith Goes to Washington (1939)\n",
      "        Die Hard (1988)\n",
      "    Recommended:\n",
      "        Raiders of the Lost Ark (1981)\n",
      "        Star Wars (1977)\n",
      "        Empire Strikes Back, The (1980)\n",
      "User 500\n",
      "    Known positives:\n",
      "        Twelve Monkeys (1995)\n",
      "        Mighty Aphrodite (1995)\n",
      "        Welcome to the Dollhouse (1995)\n",
      "    Recommended:\n",
      "        Fargo (1996)\n",
      "        Trainspotting (1996)\n",
      "        Twelve Monkeys (1995)\n"
     ]
    }
   ],
   "source": [
    "def sample_recommendation(model, data, user_ids):\n",
    "    # number of users and movies in training data\n",
    "    n_users, n_items = data['train'].shape\n",
    "    # generate recommendations for each user we input\n",
    "    for user_id in user_ids:\n",
    "        # movies they already like\n",
    "        known_positives = data['item_labels'][data['train'].tocsr()[user_id].indices]\n",
    "        \n",
    "        # movies our model predicts they will like\n",
    "        scores = model.predict(user_id, np.arange(n_items))\n",
    "        # rank them in order of most liked to least\n",
    "        top_items = data['item_labels'][np.argsort(-scores)]\n",
    "        \n",
    "        # print out the results\n",
    "        print(\"User %s\" % user_id)\n",
    "        print(\"    Known positives:\")\n",
    "        \n",
    "        for x in known_positives[:3]:\n",
    "            print(\"        %s\" % x)\n",
    "            \n",
    "        print(\"    Recommended:\")\n",
    "        \n",
    "        for x in top_items[:3]:\n",
    "            print(\"        %s\" % x)\n",
    "            \n",
    "sample_recommendation(model, data, [5, 50, 500])"
   ]
  }
 ],
 "metadata": {
  "kernelspec": {
   "display_name": "Python 3",
   "language": "python",
   "name": "python3"
  },
  "language_info": {
   "codemirror_mode": {
    "name": "ipython",
    "version": 3
   },
   "file_extension": ".py",
   "mimetype": "text/x-python",
   "name": "python",
   "nbconvert_exporter": "python",
   "pygments_lexer": "ipython3",
   "version": "3.5.2"
  }
 },
 "nbformat": 4,
 "nbformat_minor": 2
}
